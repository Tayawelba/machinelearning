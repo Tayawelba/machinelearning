{
 "cells": [
  {
   "cell_type": "markdown",
   "id": "8306a1ce",
   "metadata": {},
   "source": [
    "# CONTROL CONTINU : ML Avancé Optimisation\n",
    "\n",
    "## NOM : TAYAWELBA DAWAI HESED - KIA-22-2A-435\n",
    "\n",
    "\n"
   ]
  },
  {
   "cell_type": "markdown",
   "id": "4a32f53c",
   "metadata": {},
   "source": [
    "### Le dataset Churn_Modelling est un ensemble de données qui contient les informations de 10 000 clients d’une banque fictive. L’objectif est de prédire si un client va quitter la banque ou non en fonction de son profil et de son comportement. Pour cela, on dispose de 11 variables explicatives:\n",
    "\n",
    "###### creditScore: le score de crédit du client, qui mesure sa solvabilité\n",
    "###### Geography: le pays du client (France, Spain ou Germany)\n",
    "###### Gender: le sexe du client (Male ou Female)\n",
    "###### Age: l’âge du client\n",
    "###### Tenure: le nombre d’années que le client est avec la banque\n",
    "###### Balance: le solde du compte du client\n",
    "###### NumOfProducts: le nombre de produits que le client a avec la banque (compte courant, épargne, crédit, etc.)\n",
    "###### HasCrCard: si le client possède une carte de crédit ou non (0 ou 1)\n",
    "###### IsActiveMember: si le client est un membre actif ou non (0 ou 1), c’est-à-dire s’il utilise fréquemment les services de la banque\n",
    "###### EstimatedSalary: le salaire estimé du client\n",
    "###### Exited: si le client a quitté la banque ou non (0 ou 1), qui est la variable cible à prédire\n",
    "\n",
    "### Il s’agit donc d’un problème de classification binaire, où l’on cherche à distinguer les clients fidèles des clients partants. Pour résoudre ce problème, on va utiliser la bibliothèque PyCaret, qui est une bibliothèque de machine learning à faible code en Python qui automatise les workflows de machine learning. PyCaret permet de réaliser des expériences de bout en bout rapidement et efficacement, en utilisant des fonctions simples et cohérentes. PyCaret s’occupe également du prétraitement des données, comme la mise à l’échelle, l’encodage, la sélection des caractéristiques, etc. PyCaret offre également la possibilité de comparer et d’optimiser différents algorithmes de machine learning, ainsi que de déployer et de suivre les modèles entraînés."
   ]
  },
  {
   "cell_type": "code",
   "execution_count": null,
   "id": "ab19fb82",
   "metadata": {},
   "outputs": [],
   "source": []
  },
  {
   "cell_type": "markdown",
   "id": "9c9c48c7",
   "metadata": {},
   "source": [
    "#### Importer les bibliothèques nécessaires"
   ]
  },
  {
   "cell_type": "code",
   "execution_count": 1,
   "id": "6cda5d1d",
   "metadata": {},
   "outputs": [],
   "source": [
    "import pandas as pd # Pour manipuler les données tabulaires\n",
    "import numpy as np # Pour effectuer des opérations numériques\n",
    "import seaborn as sns # Pour créer des visualisations statistiques\n",
    "import matplotlib.pyplot as plt # Pour tracer des graphiques\n",
    "import pycaret as py # Pour automatiser le processus d'apprentissage automatique"
   ]
  },
  {
   "cell_type": "markdown",
   "id": "5a3157b3",
   "metadata": {},
   "source": [
    "#### Importer les modules spécifiques de pycaret pour différents types de problèmes"
   ]
  },
  {
   "cell_type": "code",
   "execution_count": 2,
   "id": "885ee2f6",
   "metadata": {},
   "outputs": [],
   "source": [
    "from pycaret.regression import * # Pour la régression\n",
    "from pycaret.classification import * # Pour la classification\n",
    "from pycaret.clustering import * # Pour le clustering\n",
    "from pycaret.anomaly import * # Pour la détection d'anomalies\n"
   ]
  },
  {
   "cell_type": "code",
   "execution_count": 3,
   "id": "c08e106e",
   "metadata": {
    "scrolled": true
   },
   "outputs": [
    {
     "data": {
      "text/html": [
       "<div>\n",
       "<style scoped>\n",
       "    .dataframe tbody tr th:only-of-type {\n",
       "        vertical-align: middle;\n",
       "    }\n",
       "\n",
       "    .dataframe tbody tr th {\n",
       "        vertical-align: top;\n",
       "    }\n",
       "\n",
       "    .dataframe thead th {\n",
       "        text-align: right;\n",
       "    }\n",
       "</style>\n",
       "<table border=\"1\" class=\"dataframe\">\n",
       "  <thead>\n",
       "    <tr style=\"text-align: right;\">\n",
       "      <th></th>\n",
       "      <th>RowNumber</th>\n",
       "      <th>CustomerId</th>\n",
       "      <th>Surname</th>\n",
       "      <th>CreditScore</th>\n",
       "      <th>Geography</th>\n",
       "      <th>Gender</th>\n",
       "      <th>Age</th>\n",
       "      <th>Tenure</th>\n",
       "      <th>Balance</th>\n",
       "      <th>NumOfProducts</th>\n",
       "      <th>HasCrCard</th>\n",
       "      <th>IsActiveMember</th>\n",
       "      <th>EstimatedSalary</th>\n",
       "      <th>Exited</th>\n",
       "    </tr>\n",
       "  </thead>\n",
       "  <tbody>\n",
       "    <tr>\n",
       "      <th>0</th>\n",
       "      <td>1</td>\n",
       "      <td>15634602</td>\n",
       "      <td>Hargrave</td>\n",
       "      <td>619</td>\n",
       "      <td>France</td>\n",
       "      <td>Female</td>\n",
       "      <td>42</td>\n",
       "      <td>2</td>\n",
       "      <td>0.00</td>\n",
       "      <td>1</td>\n",
       "      <td>1</td>\n",
       "      <td>1</td>\n",
       "      <td>101348.88</td>\n",
       "      <td>1</td>\n",
       "    </tr>\n",
       "    <tr>\n",
       "      <th>1</th>\n",
       "      <td>2</td>\n",
       "      <td>15647311</td>\n",
       "      <td>Hill</td>\n",
       "      <td>608</td>\n",
       "      <td>Spain</td>\n",
       "      <td>Female</td>\n",
       "      <td>41</td>\n",
       "      <td>1</td>\n",
       "      <td>83807.86</td>\n",
       "      <td>1</td>\n",
       "      <td>0</td>\n",
       "      <td>1</td>\n",
       "      <td>112542.58</td>\n",
       "      <td>0</td>\n",
       "    </tr>\n",
       "    <tr>\n",
       "      <th>2</th>\n",
       "      <td>3</td>\n",
       "      <td>15619304</td>\n",
       "      <td>Onio</td>\n",
       "      <td>502</td>\n",
       "      <td>France</td>\n",
       "      <td>Female</td>\n",
       "      <td>42</td>\n",
       "      <td>8</td>\n",
       "      <td>159660.80</td>\n",
       "      <td>3</td>\n",
       "      <td>1</td>\n",
       "      <td>0</td>\n",
       "      <td>113931.57</td>\n",
       "      <td>1</td>\n",
       "    </tr>\n",
       "    <tr>\n",
       "      <th>3</th>\n",
       "      <td>4</td>\n",
       "      <td>15701354</td>\n",
       "      <td>Boni</td>\n",
       "      <td>699</td>\n",
       "      <td>France</td>\n",
       "      <td>Female</td>\n",
       "      <td>39</td>\n",
       "      <td>1</td>\n",
       "      <td>0.00</td>\n",
       "      <td>2</td>\n",
       "      <td>0</td>\n",
       "      <td>0</td>\n",
       "      <td>93826.63</td>\n",
       "      <td>0</td>\n",
       "    </tr>\n",
       "    <tr>\n",
       "      <th>4</th>\n",
       "      <td>5</td>\n",
       "      <td>15737888</td>\n",
       "      <td>Mitchell</td>\n",
       "      <td>850</td>\n",
       "      <td>Spain</td>\n",
       "      <td>Female</td>\n",
       "      <td>43</td>\n",
       "      <td>2</td>\n",
       "      <td>125510.82</td>\n",
       "      <td>1</td>\n",
       "      <td>1</td>\n",
       "      <td>1</td>\n",
       "      <td>79084.10</td>\n",
       "      <td>0</td>\n",
       "    </tr>\n",
       "  </tbody>\n",
       "</table>\n",
       "</div>"
      ],
      "text/plain": [
       "   RowNumber  CustomerId   Surname  CreditScore Geography  Gender  Age  \\\n",
       "0          1    15634602  Hargrave          619    France  Female   42   \n",
       "1          2    15647311      Hill          608     Spain  Female   41   \n",
       "2          3    15619304      Onio          502    France  Female   42   \n",
       "3          4    15701354      Boni          699    France  Female   39   \n",
       "4          5    15737888  Mitchell          850     Spain  Female   43   \n",
       "\n",
       "   Tenure    Balance  NumOfProducts  HasCrCard  IsActiveMember  \\\n",
       "0       2       0.00              1          1               1   \n",
       "1       1   83807.86              1          0               1   \n",
       "2       8  159660.80              3          1               0   \n",
       "3       1       0.00              2          0               0   \n",
       "4       2  125510.82              1          1               1   \n",
       "\n",
       "   EstimatedSalary  Exited  \n",
       "0        101348.88       1  \n",
       "1        112542.58       0  \n",
       "2        113931.57       1  \n",
       "3         93826.63       0  \n",
       "4         79084.10       0  "
      ]
     },
     "execution_count": 3,
     "metadata": {},
     "output_type": "execute_result"
    }
   ],
   "source": [
    "# Modifier l'option d'affichage pour voir toutes les colonnes du dataframe\n",
    "pd.set_option('display.max_columns', None)\n",
    "# Charger les données à partir d'un fichier csv\n",
    "data = pd.read_csv(\"Churn_Modelling.csv\")\n",
    "# Afficher les cinq premières lignes des données\n",
    "data.head()"
   ]
  },
  {
   "cell_type": "code",
   "execution_count": 4,
   "id": "6d755f65",
   "metadata": {},
   "outputs": [
    {
     "data": {
      "text/plain": [
       "(10000, 14)"
      ]
     },
     "execution_count": 4,
     "metadata": {},
     "output_type": "execute_result"
    }
   ],
   "source": [
    "# Afficher la forme du dataframe (nombre de lignes et de colonnes)\n",
    "data.shape"
   ]
  },
  {
   "cell_type": "code",
   "execution_count": 5,
   "id": "124ffb8e",
   "metadata": {},
   "outputs": [],
   "source": [
    "data.drop([\"RowNumber\"],axis=1,inplace=True)"
   ]
  },
  {
   "cell_type": "code",
   "execution_count": 6,
   "id": "080c1676",
   "metadata": {},
   "outputs": [],
   "source": [
    "data.drop([\"CustomerId\"],axis=1,inplace=True)\n"
   ]
  },
  {
   "cell_type": "code",
   "execution_count": 7,
   "id": "7de8653c",
   "metadata": {},
   "outputs": [],
   "source": [
    "data.drop([\"Surname\"],axis=1,inplace=True)"
   ]
  },
  {
   "cell_type": "code",
   "execution_count": 8,
   "id": "938168df",
   "metadata": {
    "scrolled": true
   },
   "outputs": [
    {
     "data": {
      "text/html": [
       "<div>\n",
       "<style scoped>\n",
       "    .dataframe tbody tr th:only-of-type {\n",
       "        vertical-align: middle;\n",
       "    }\n",
       "\n",
       "    .dataframe tbody tr th {\n",
       "        vertical-align: top;\n",
       "    }\n",
       "\n",
       "    .dataframe thead th {\n",
       "        text-align: right;\n",
       "    }\n",
       "</style>\n",
       "<table border=\"1\" class=\"dataframe\">\n",
       "  <thead>\n",
       "    <tr style=\"text-align: right;\">\n",
       "      <th></th>\n",
       "      <th>CreditScore</th>\n",
       "      <th>Geography</th>\n",
       "      <th>Gender</th>\n",
       "      <th>Age</th>\n",
       "      <th>Tenure</th>\n",
       "      <th>Balance</th>\n",
       "      <th>NumOfProducts</th>\n",
       "      <th>HasCrCard</th>\n",
       "      <th>IsActiveMember</th>\n",
       "      <th>EstimatedSalary</th>\n",
       "      <th>Exited</th>\n",
       "    </tr>\n",
       "  </thead>\n",
       "  <tbody>\n",
       "    <tr>\n",
       "      <th>0</th>\n",
       "      <td>619</td>\n",
       "      <td>France</td>\n",
       "      <td>Female</td>\n",
       "      <td>42</td>\n",
       "      <td>2</td>\n",
       "      <td>0.00</td>\n",
       "      <td>1</td>\n",
       "      <td>1</td>\n",
       "      <td>1</td>\n",
       "      <td>101348.88</td>\n",
       "      <td>1</td>\n",
       "    </tr>\n",
       "    <tr>\n",
       "      <th>1</th>\n",
       "      <td>608</td>\n",
       "      <td>Spain</td>\n",
       "      <td>Female</td>\n",
       "      <td>41</td>\n",
       "      <td>1</td>\n",
       "      <td>83807.86</td>\n",
       "      <td>1</td>\n",
       "      <td>0</td>\n",
       "      <td>1</td>\n",
       "      <td>112542.58</td>\n",
       "      <td>0</td>\n",
       "    </tr>\n",
       "    <tr>\n",
       "      <th>2</th>\n",
       "      <td>502</td>\n",
       "      <td>France</td>\n",
       "      <td>Female</td>\n",
       "      <td>42</td>\n",
       "      <td>8</td>\n",
       "      <td>159660.80</td>\n",
       "      <td>3</td>\n",
       "      <td>1</td>\n",
       "      <td>0</td>\n",
       "      <td>113931.57</td>\n",
       "      <td>1</td>\n",
       "    </tr>\n",
       "    <tr>\n",
       "      <th>3</th>\n",
       "      <td>699</td>\n",
       "      <td>France</td>\n",
       "      <td>Female</td>\n",
       "      <td>39</td>\n",
       "      <td>1</td>\n",
       "      <td>0.00</td>\n",
       "      <td>2</td>\n",
       "      <td>0</td>\n",
       "      <td>0</td>\n",
       "      <td>93826.63</td>\n",
       "      <td>0</td>\n",
       "    </tr>\n",
       "    <tr>\n",
       "      <th>4</th>\n",
       "      <td>850</td>\n",
       "      <td>Spain</td>\n",
       "      <td>Female</td>\n",
       "      <td>43</td>\n",
       "      <td>2</td>\n",
       "      <td>125510.82</td>\n",
       "      <td>1</td>\n",
       "      <td>1</td>\n",
       "      <td>1</td>\n",
       "      <td>79084.10</td>\n",
       "      <td>0</td>\n",
       "    </tr>\n",
       "  </tbody>\n",
       "</table>\n",
       "</div>"
      ],
      "text/plain": [
       "   CreditScore Geography  Gender  Age  Tenure    Balance  NumOfProducts  \\\n",
       "0          619    France  Female   42       2       0.00              1   \n",
       "1          608     Spain  Female   41       1   83807.86              1   \n",
       "2          502    France  Female   42       8  159660.80              3   \n",
       "3          699    France  Female   39       1       0.00              2   \n",
       "4          850     Spain  Female   43       2  125510.82              1   \n",
       "\n",
       "   HasCrCard  IsActiveMember  EstimatedSalary  Exited  \n",
       "0          1               1        101348.88       1  \n",
       "1          0               1        112542.58       0  \n",
       "2          1               0        113931.57       1  \n",
       "3          0               0         93826.63       0  \n",
       "4          1               1         79084.10       0  "
      ]
     },
     "execution_count": 8,
     "metadata": {},
     "output_type": "execute_result"
    }
   ],
   "source": [
    "data.head()\n"
   ]
  },
  {
   "cell_type": "code",
   "execution_count": 9,
   "id": "5c4ad147",
   "metadata": {
    "scrolled": true
   },
   "outputs": [
    {
     "data": {
      "text/html": [
       "<div>\n",
       "<style scoped>\n",
       "    .dataframe tbody tr th:only-of-type {\n",
       "        vertical-align: middle;\n",
       "    }\n",
       "\n",
       "    .dataframe tbody tr th {\n",
       "        vertical-align: top;\n",
       "    }\n",
       "\n",
       "    .dataframe thead th {\n",
       "        text-align: right;\n",
       "    }\n",
       "</style>\n",
       "<table border=\"1\" class=\"dataframe\">\n",
       "  <thead>\n",
       "    <tr style=\"text-align: right;\">\n",
       "      <th></th>\n",
       "      <th>CreditScore</th>\n",
       "      <th>Age</th>\n",
       "      <th>Tenure</th>\n",
       "      <th>Balance</th>\n",
       "      <th>NumOfProducts</th>\n",
       "      <th>HasCrCard</th>\n",
       "      <th>IsActiveMember</th>\n",
       "      <th>EstimatedSalary</th>\n",
       "      <th>Exited</th>\n",
       "    </tr>\n",
       "  </thead>\n",
       "  <tbody>\n",
       "    <tr>\n",
       "      <th>count</th>\n",
       "      <td>10000.000000</td>\n",
       "      <td>10000.000000</td>\n",
       "      <td>10000.000000</td>\n",
       "      <td>10000.000000</td>\n",
       "      <td>10000.000000</td>\n",
       "      <td>10000.00000</td>\n",
       "      <td>10000.000000</td>\n",
       "      <td>10000.000000</td>\n",
       "      <td>10000.000000</td>\n",
       "    </tr>\n",
       "    <tr>\n",
       "      <th>mean</th>\n",
       "      <td>650.528800</td>\n",
       "      <td>38.921800</td>\n",
       "      <td>5.012800</td>\n",
       "      <td>76485.889288</td>\n",
       "      <td>1.530200</td>\n",
       "      <td>0.70550</td>\n",
       "      <td>0.515100</td>\n",
       "      <td>100090.239881</td>\n",
       "      <td>0.203700</td>\n",
       "    </tr>\n",
       "    <tr>\n",
       "      <th>std</th>\n",
       "      <td>96.653299</td>\n",
       "      <td>10.487806</td>\n",
       "      <td>2.892174</td>\n",
       "      <td>62397.405202</td>\n",
       "      <td>0.581654</td>\n",
       "      <td>0.45584</td>\n",
       "      <td>0.499797</td>\n",
       "      <td>57510.492818</td>\n",
       "      <td>0.402769</td>\n",
       "    </tr>\n",
       "    <tr>\n",
       "      <th>min</th>\n",
       "      <td>350.000000</td>\n",
       "      <td>18.000000</td>\n",
       "      <td>0.000000</td>\n",
       "      <td>0.000000</td>\n",
       "      <td>1.000000</td>\n",
       "      <td>0.00000</td>\n",
       "      <td>0.000000</td>\n",
       "      <td>11.580000</td>\n",
       "      <td>0.000000</td>\n",
       "    </tr>\n",
       "    <tr>\n",
       "      <th>25%</th>\n",
       "      <td>584.000000</td>\n",
       "      <td>32.000000</td>\n",
       "      <td>3.000000</td>\n",
       "      <td>0.000000</td>\n",
       "      <td>1.000000</td>\n",
       "      <td>0.00000</td>\n",
       "      <td>0.000000</td>\n",
       "      <td>51002.110000</td>\n",
       "      <td>0.000000</td>\n",
       "    </tr>\n",
       "    <tr>\n",
       "      <th>50%</th>\n",
       "      <td>652.000000</td>\n",
       "      <td>37.000000</td>\n",
       "      <td>5.000000</td>\n",
       "      <td>97198.540000</td>\n",
       "      <td>1.000000</td>\n",
       "      <td>1.00000</td>\n",
       "      <td>1.000000</td>\n",
       "      <td>100193.915000</td>\n",
       "      <td>0.000000</td>\n",
       "    </tr>\n",
       "    <tr>\n",
       "      <th>75%</th>\n",
       "      <td>718.000000</td>\n",
       "      <td>44.000000</td>\n",
       "      <td>7.000000</td>\n",
       "      <td>127644.240000</td>\n",
       "      <td>2.000000</td>\n",
       "      <td>1.00000</td>\n",
       "      <td>1.000000</td>\n",
       "      <td>149388.247500</td>\n",
       "      <td>0.000000</td>\n",
       "    </tr>\n",
       "    <tr>\n",
       "      <th>max</th>\n",
       "      <td>850.000000</td>\n",
       "      <td>92.000000</td>\n",
       "      <td>10.000000</td>\n",
       "      <td>250898.090000</td>\n",
       "      <td>4.000000</td>\n",
       "      <td>1.00000</td>\n",
       "      <td>1.000000</td>\n",
       "      <td>199992.480000</td>\n",
       "      <td>1.000000</td>\n",
       "    </tr>\n",
       "  </tbody>\n",
       "</table>\n",
       "</div>"
      ],
      "text/plain": [
       "        CreditScore           Age        Tenure        Balance  NumOfProducts  \\\n",
       "count  10000.000000  10000.000000  10000.000000   10000.000000   10000.000000   \n",
       "mean     650.528800     38.921800      5.012800   76485.889288       1.530200   \n",
       "std       96.653299     10.487806      2.892174   62397.405202       0.581654   \n",
       "min      350.000000     18.000000      0.000000       0.000000       1.000000   \n",
       "25%      584.000000     32.000000      3.000000       0.000000       1.000000   \n",
       "50%      652.000000     37.000000      5.000000   97198.540000       1.000000   \n",
       "75%      718.000000     44.000000      7.000000  127644.240000       2.000000   \n",
       "max      850.000000     92.000000     10.000000  250898.090000       4.000000   \n",
       "\n",
       "         HasCrCard  IsActiveMember  EstimatedSalary        Exited  \n",
       "count  10000.00000    10000.000000     10000.000000  10000.000000  \n",
       "mean       0.70550        0.515100    100090.239881      0.203700  \n",
       "std        0.45584        0.499797     57510.492818      0.402769  \n",
       "min        0.00000        0.000000        11.580000      0.000000  \n",
       "25%        0.00000        0.000000     51002.110000      0.000000  \n",
       "50%        1.00000        1.000000    100193.915000      0.000000  \n",
       "75%        1.00000        1.000000    149388.247500      0.000000  \n",
       "max        1.00000        1.000000    199992.480000      1.000000  "
      ]
     },
     "execution_count": 9,
     "metadata": {},
     "output_type": "execute_result"
    }
   ],
   "source": [
    "# Afficher les statistiques descriptives des variables numériques\n",
    "data.describe()"
   ]
  },
  {
   "cell_type": "code",
   "execution_count": 10,
   "id": "8634f8ff",
   "metadata": {},
   "outputs": [
    {
     "name": "stdout",
     "output_type": "stream",
     "text": [
      "<class 'pandas.core.frame.DataFrame'>\n",
      "RangeIndex: 10000 entries, 0 to 9999\n",
      "Data columns (total 11 columns):\n",
      " #   Column           Non-Null Count  Dtype  \n",
      "---  ------           --------------  -----  \n",
      " 0   CreditScore      10000 non-null  int64  \n",
      " 1   Geography        10000 non-null  object \n",
      " 2   Gender           10000 non-null  object \n",
      " 3   Age              10000 non-null  int64  \n",
      " 4   Tenure           10000 non-null  int64  \n",
      " 5   Balance          10000 non-null  float64\n",
      " 6   NumOfProducts    10000 non-null  int64  \n",
      " 7   HasCrCard        10000 non-null  int64  \n",
      " 8   IsActiveMember   10000 non-null  int64  \n",
      " 9   EstimatedSalary  10000 non-null  float64\n",
      " 10  Exited           10000 non-null  int64  \n",
      "dtypes: float64(2), int64(7), object(2)\n",
      "memory usage: 859.5+ KB\n"
     ]
    }
   ],
   "source": [
    "# Afficher les informations sur les types de données et les valeurs manquantes\n",
    "data.info()"
   ]
  },
  {
   "cell_type": "code",
   "execution_count": null,
   "id": "b807e7b1",
   "metadata": {},
   "outputs": [],
   "source": []
  },
  {
   "cell_type": "code",
   "execution_count": 11,
   "id": "1c52d6ee",
   "metadata": {},
   "outputs": [
    {
     "data": {
      "text/plain": [
       "CreditScore        0\n",
       "Geography          0\n",
       "Gender             0\n",
       "Age                0\n",
       "Tenure             0\n",
       "Balance            0\n",
       "NumOfProducts      0\n",
       "HasCrCard          0\n",
       "IsActiveMember     0\n",
       "EstimatedSalary    0\n",
       "Exited             0\n",
       "dtype: int64"
      ]
     },
     "execution_count": 11,
     "metadata": {},
     "output_type": "execute_result"
    }
   ],
   "source": [
    "# Calculer le nombre de valeurs manquantes par colonne\n",
    "data.isna().sum()"
   ]
  },
  {
   "cell_type": "code",
   "execution_count": 12,
   "id": "af8e3294",
   "metadata": {},
   "outputs": [],
   "source": [
    "# Remplacer les 0 par des valeurs manquantes (NaN) dans la colonne Balance\n",
    "#data[\"Balance\"] = data[\"Balance\"].replace(0, np.nan)\n",
    "# Remplacer les valeurs manquantes par la moyenne dans la colonne Balance\n",
    "#data[\"Balance\"] = data[\"Balance\"].fillna(data[\"Balance\"].mean())"
   ]
  },
  {
   "cell_type": "code",
   "execution_count": 13,
   "id": "0ab68366",
   "metadata": {},
   "outputs": [],
   "source": [
    "# Encoder la colonne Gender en 0 pour Female et 1 pour Male\n",
    "#data[\"Gender\"] = data[\"Gender\"].map({\"Female\": 0, \"Male\": 1})"
   ]
  },
  {
   "cell_type": "code",
   "execution_count": 14,
   "id": "2e79ecbc",
   "metadata": {},
   "outputs": [
    {
     "name": "stdout",
     "output_type": "stream",
     "text": [
      "<class 'pandas.core.frame.DataFrame'>\n",
      "RangeIndex: 10000 entries, 0 to 9999\n",
      "Data columns (total 11 columns):\n",
      " #   Column           Non-Null Count  Dtype  \n",
      "---  ------           --------------  -----  \n",
      " 0   CreditScore      10000 non-null  int64  \n",
      " 1   Geography        10000 non-null  object \n",
      " 2   Gender           10000 non-null  object \n",
      " 3   Age              10000 non-null  int64  \n",
      " 4   Tenure           10000 non-null  int64  \n",
      " 5   Balance          10000 non-null  float64\n",
      " 6   NumOfProducts    10000 non-null  int64  \n",
      " 7   HasCrCard        10000 non-null  int64  \n",
      " 8   IsActiveMember   10000 non-null  int64  \n",
      " 9   EstimatedSalary  10000 non-null  float64\n",
      " 10  Exited           10000 non-null  int64  \n",
      "dtypes: float64(2), int64(7), object(2)\n",
      "memory usage: 859.5+ KB\n"
     ]
    }
   ],
   "source": [
    "# Afficher les cinq premières lignes des données après les transformations\n",
    "data.head()\n",
    "# Afficher les informations sur les types de données et les valeurs manquantes après les transformations\n",
    "data.info()"
   ]
  },
  {
   "cell_type": "code",
   "execution_count": null,
   "id": "778dd07b",
   "metadata": {},
   "outputs": [],
   "source": []
  },
  {
   "cell_type": "code",
   "execution_count": null,
   "id": "a9dcd36b",
   "metadata": {},
   "outputs": [],
   "source": []
  },
  {
   "cell_type": "code",
   "execution_count": 15,
   "id": "fe56db30",
   "metadata": {},
   "outputs": [
    {
     "data": {
      "text/plain": [
       "array([1, 0], dtype=int64)"
      ]
     },
     "execution_count": 15,
     "metadata": {},
     "output_type": "execute_result"
    }
   ],
   "source": [
    "# Afficher les valeurs uniques de la colonne Exited (variable cible)\n",
    "data.Exited.unique()"
   ]
  },
  {
   "cell_type": "code",
   "execution_count": 16,
   "id": "74c8adc6",
   "metadata": {},
   "outputs": [
    {
     "data": {
      "text/html": [
       "<style type=\"text/css\">\n",
       "#T_88214_row10_col1, #T_88214_row16_col1 {\n",
       "  background-color: lightgreen;\n",
       "}\n",
       "</style>\n",
       "<table id=\"T_88214_\">\n",
       "  <thead>\n",
       "    <tr>\n",
       "      <th class=\"blank level0\" >&nbsp;</th>\n",
       "      <th class=\"col_heading level0 col0\" >Description</th>\n",
       "      <th class=\"col_heading level0 col1\" >Value</th>\n",
       "    </tr>\n",
       "  </thead>\n",
       "  <tbody>\n",
       "    <tr>\n",
       "      <th id=\"T_88214_level0_row0\" class=\"row_heading level0 row0\" >0</th>\n",
       "      <td id=\"T_88214_row0_col0\" class=\"data row0 col0\" >Session id</td>\n",
       "      <td id=\"T_88214_row0_col1\" class=\"data row0 col1\" >7768</td>\n",
       "    </tr>\n",
       "    <tr>\n",
       "      <th id=\"T_88214_level0_row1\" class=\"row_heading level0 row1\" >1</th>\n",
       "      <td id=\"T_88214_row1_col0\" class=\"data row1 col0\" >Target</td>\n",
       "      <td id=\"T_88214_row1_col1\" class=\"data row1 col1\" >Exited</td>\n",
       "    </tr>\n",
       "    <tr>\n",
       "      <th id=\"T_88214_level0_row2\" class=\"row_heading level0 row2\" >2</th>\n",
       "      <td id=\"T_88214_row2_col0\" class=\"data row2 col0\" >Target type</td>\n",
       "      <td id=\"T_88214_row2_col1\" class=\"data row2 col1\" >Binary</td>\n",
       "    </tr>\n",
       "    <tr>\n",
       "      <th id=\"T_88214_level0_row3\" class=\"row_heading level0 row3\" >3</th>\n",
       "      <td id=\"T_88214_row3_col0\" class=\"data row3 col0\" >Original data shape</td>\n",
       "      <td id=\"T_88214_row3_col1\" class=\"data row3 col1\" >(10000, 11)</td>\n",
       "    </tr>\n",
       "    <tr>\n",
       "      <th id=\"T_88214_level0_row4\" class=\"row_heading level0 row4\" >4</th>\n",
       "      <td id=\"T_88214_row4_col0\" class=\"data row4 col0\" >Transformed data shape</td>\n",
       "      <td id=\"T_88214_row4_col1\" class=\"data row4 col1\" >(10000, 13)</td>\n",
       "    </tr>\n",
       "    <tr>\n",
       "      <th id=\"T_88214_level0_row5\" class=\"row_heading level0 row5\" >5</th>\n",
       "      <td id=\"T_88214_row5_col0\" class=\"data row5 col0\" >Transformed train set shape</td>\n",
       "      <td id=\"T_88214_row5_col1\" class=\"data row5 col1\" >(8000, 13)</td>\n",
       "    </tr>\n",
       "    <tr>\n",
       "      <th id=\"T_88214_level0_row6\" class=\"row_heading level0 row6\" >6</th>\n",
       "      <td id=\"T_88214_row6_col0\" class=\"data row6 col0\" >Transformed test set shape</td>\n",
       "      <td id=\"T_88214_row6_col1\" class=\"data row6 col1\" >(2000, 13)</td>\n",
       "    </tr>\n",
       "    <tr>\n",
       "      <th id=\"T_88214_level0_row7\" class=\"row_heading level0 row7\" >7</th>\n",
       "      <td id=\"T_88214_row7_col0\" class=\"data row7 col0\" >Ordinal features</td>\n",
       "      <td id=\"T_88214_row7_col1\" class=\"data row7 col1\" >1</td>\n",
       "    </tr>\n",
       "    <tr>\n",
       "      <th id=\"T_88214_level0_row8\" class=\"row_heading level0 row8\" >8</th>\n",
       "      <td id=\"T_88214_row8_col0\" class=\"data row8 col0\" >Numeric features</td>\n",
       "      <td id=\"T_88214_row8_col1\" class=\"data row8 col1\" >8</td>\n",
       "    </tr>\n",
       "    <tr>\n",
       "      <th id=\"T_88214_level0_row9\" class=\"row_heading level0 row9\" >9</th>\n",
       "      <td id=\"T_88214_row9_col0\" class=\"data row9 col0\" >Categorical features</td>\n",
       "      <td id=\"T_88214_row9_col1\" class=\"data row9 col1\" >2</td>\n",
       "    </tr>\n",
       "    <tr>\n",
       "      <th id=\"T_88214_level0_row10\" class=\"row_heading level0 row10\" >10</th>\n",
       "      <td id=\"T_88214_row10_col0\" class=\"data row10 col0\" >Preprocess</td>\n",
       "      <td id=\"T_88214_row10_col1\" class=\"data row10 col1\" >True</td>\n",
       "    </tr>\n",
       "    <tr>\n",
       "      <th id=\"T_88214_level0_row11\" class=\"row_heading level0 row11\" >11</th>\n",
       "      <td id=\"T_88214_row11_col0\" class=\"data row11 col0\" >Imputation type</td>\n",
       "      <td id=\"T_88214_row11_col1\" class=\"data row11 col1\" >simple</td>\n",
       "    </tr>\n",
       "    <tr>\n",
       "      <th id=\"T_88214_level0_row12\" class=\"row_heading level0 row12\" >12</th>\n",
       "      <td id=\"T_88214_row12_col0\" class=\"data row12 col0\" >Numeric imputation</td>\n",
       "      <td id=\"T_88214_row12_col1\" class=\"data row12 col1\" >mean</td>\n",
       "    </tr>\n",
       "    <tr>\n",
       "      <th id=\"T_88214_level0_row13\" class=\"row_heading level0 row13\" >13</th>\n",
       "      <td id=\"T_88214_row13_col0\" class=\"data row13 col0\" >Categorical imputation</td>\n",
       "      <td id=\"T_88214_row13_col1\" class=\"data row13 col1\" >mode</td>\n",
       "    </tr>\n",
       "    <tr>\n",
       "      <th id=\"T_88214_level0_row14\" class=\"row_heading level0 row14\" >14</th>\n",
       "      <td id=\"T_88214_row14_col0\" class=\"data row14 col0\" >Maximum one-hot encoding</td>\n",
       "      <td id=\"T_88214_row14_col1\" class=\"data row14 col1\" >25</td>\n",
       "    </tr>\n",
       "    <tr>\n",
       "      <th id=\"T_88214_level0_row15\" class=\"row_heading level0 row15\" >15</th>\n",
       "      <td id=\"T_88214_row15_col0\" class=\"data row15 col0\" >Encoding method</td>\n",
       "      <td id=\"T_88214_row15_col1\" class=\"data row15 col1\" >None</td>\n",
       "    </tr>\n",
       "    <tr>\n",
       "      <th id=\"T_88214_level0_row16\" class=\"row_heading level0 row16\" >16</th>\n",
       "      <td id=\"T_88214_row16_col0\" class=\"data row16 col0\" >Normalize</td>\n",
       "      <td id=\"T_88214_row16_col1\" class=\"data row16 col1\" >True</td>\n",
       "    </tr>\n",
       "    <tr>\n",
       "      <th id=\"T_88214_level0_row17\" class=\"row_heading level0 row17\" >17</th>\n",
       "      <td id=\"T_88214_row17_col0\" class=\"data row17 col0\" >Normalize method</td>\n",
       "      <td id=\"T_88214_row17_col1\" class=\"data row17 col1\" >minmax</td>\n",
       "    </tr>\n",
       "    <tr>\n",
       "      <th id=\"T_88214_level0_row18\" class=\"row_heading level0 row18\" >18</th>\n",
       "      <td id=\"T_88214_row18_col0\" class=\"data row18 col0\" >Fold Generator</td>\n",
       "      <td id=\"T_88214_row18_col1\" class=\"data row18 col1\" >StratifiedKFold</td>\n",
       "    </tr>\n",
       "    <tr>\n",
       "      <th id=\"T_88214_level0_row19\" class=\"row_heading level0 row19\" >19</th>\n",
       "      <td id=\"T_88214_row19_col0\" class=\"data row19 col0\" >Fold Number</td>\n",
       "      <td id=\"T_88214_row19_col1\" class=\"data row19 col1\" >10</td>\n",
       "    </tr>\n",
       "    <tr>\n",
       "      <th id=\"T_88214_level0_row20\" class=\"row_heading level0 row20\" >20</th>\n",
       "      <td id=\"T_88214_row20_col0\" class=\"data row20 col0\" >CPU Jobs</td>\n",
       "      <td id=\"T_88214_row20_col1\" class=\"data row20 col1\" >-1</td>\n",
       "    </tr>\n",
       "    <tr>\n",
       "      <th id=\"T_88214_level0_row21\" class=\"row_heading level0 row21\" >21</th>\n",
       "      <td id=\"T_88214_row21_col0\" class=\"data row21 col0\" >Use GPU</td>\n",
       "      <td id=\"T_88214_row21_col1\" class=\"data row21 col1\" >False</td>\n",
       "    </tr>\n",
       "    <tr>\n",
       "      <th id=\"T_88214_level0_row22\" class=\"row_heading level0 row22\" >22</th>\n",
       "      <td id=\"T_88214_row22_col0\" class=\"data row22 col0\" >Log Experiment</td>\n",
       "      <td id=\"T_88214_row22_col1\" class=\"data row22 col1\" >False</td>\n",
       "    </tr>\n",
       "    <tr>\n",
       "      <th id=\"T_88214_level0_row23\" class=\"row_heading level0 row23\" >23</th>\n",
       "      <td id=\"T_88214_row23_col0\" class=\"data row23 col0\" >Experiment Name</td>\n",
       "      <td id=\"T_88214_row23_col1\" class=\"data row23 col1\" >clf-default-name</td>\n",
       "    </tr>\n",
       "    <tr>\n",
       "      <th id=\"T_88214_level0_row24\" class=\"row_heading level0 row24\" >24</th>\n",
       "      <td id=\"T_88214_row24_col0\" class=\"data row24 col0\" >USI</td>\n",
       "      <td id=\"T_88214_row24_col1\" class=\"data row24 col1\" >7a31</td>\n",
       "    </tr>\n",
       "  </tbody>\n",
       "</table>\n"
      ],
      "text/plain": [
       "<pandas.io.formats.style.Styler at 0x27b446f2760>"
      ]
     },
     "metadata": {},
     "output_type": "display_data"
    }
   ],
   "source": [
    "# Importer le module de classification de pycaret\n",
    "from pycaret.classification import *\n",
    "# Initialiser l'environnement d'apprentissage automatique avec les paramètres choisis\n",
    "exp_clf = setup(data, target=\"Exited\",train_size=0.8,normalize=True,normalize_method=\"minmax\")"
   ]
  },
  {
   "cell_type": "code",
   "execution_count": 17,
   "id": "350e7036",
   "metadata": {},
   "outputs": [
    {
     "data": {
      "text/html": [],
      "text/plain": [
       "<IPython.core.display.HTML object>"
      ]
     },
     "metadata": {},
     "output_type": "display_data"
    },
    {
     "data": {
      "text/html": [
       "<style type=\"text/css\">\n",
       "#T_b0b02_ th {\n",
       "  text-align: left;\n",
       "}\n",
       "#T_b0b02_row0_col0, #T_b0b02_row0_col3, #T_b0b02_row0_col4, #T_b0b02_row1_col0, #T_b0b02_row1_col1, #T_b0b02_row1_col2, #T_b0b02_row1_col3, #T_b0b02_row1_col5, #T_b0b02_row1_col6, #T_b0b02_row1_col7, #T_b0b02_row2_col0, #T_b0b02_row2_col1, #T_b0b02_row2_col2, #T_b0b02_row2_col3, #T_b0b02_row2_col4, #T_b0b02_row2_col5, #T_b0b02_row2_col6, #T_b0b02_row2_col7, #T_b0b02_row3_col0, #T_b0b02_row3_col1, #T_b0b02_row3_col2, #T_b0b02_row3_col3, #T_b0b02_row3_col4, #T_b0b02_row3_col5, #T_b0b02_row3_col6, #T_b0b02_row3_col7, #T_b0b02_row4_col0, #T_b0b02_row4_col1, #T_b0b02_row4_col2, #T_b0b02_row4_col3, #T_b0b02_row4_col4, #T_b0b02_row4_col5, #T_b0b02_row4_col6, #T_b0b02_row4_col7, #T_b0b02_row5_col0, #T_b0b02_row5_col1, #T_b0b02_row5_col2, #T_b0b02_row5_col3, #T_b0b02_row5_col4, #T_b0b02_row5_col5, #T_b0b02_row5_col6, #T_b0b02_row5_col7, #T_b0b02_row6_col0, #T_b0b02_row6_col1, #T_b0b02_row6_col2, #T_b0b02_row6_col3, #T_b0b02_row6_col4, #T_b0b02_row6_col5, #T_b0b02_row6_col6, #T_b0b02_row6_col7, #T_b0b02_row7_col0, #T_b0b02_row7_col1, #T_b0b02_row7_col2, #T_b0b02_row7_col3, #T_b0b02_row7_col4, #T_b0b02_row7_col5, #T_b0b02_row7_col6, #T_b0b02_row7_col7, #T_b0b02_row8_col0, #T_b0b02_row8_col1, #T_b0b02_row8_col2, #T_b0b02_row8_col3, #T_b0b02_row8_col4, #T_b0b02_row8_col5, #T_b0b02_row8_col6, #T_b0b02_row8_col7, #T_b0b02_row9_col0, #T_b0b02_row9_col1, #T_b0b02_row9_col2, #T_b0b02_row9_col3, #T_b0b02_row9_col4, #T_b0b02_row9_col5, #T_b0b02_row9_col6, #T_b0b02_row9_col7, #T_b0b02_row10_col0, #T_b0b02_row10_col1, #T_b0b02_row10_col2, #T_b0b02_row10_col3, #T_b0b02_row10_col4, #T_b0b02_row10_col5, #T_b0b02_row10_col6, #T_b0b02_row10_col7, #T_b0b02_row11_col0, #T_b0b02_row11_col1, #T_b0b02_row11_col2, #T_b0b02_row11_col3, #T_b0b02_row11_col4, #T_b0b02_row11_col5, #T_b0b02_row11_col6, #T_b0b02_row11_col7, #T_b0b02_row12_col0, #T_b0b02_row12_col1, #T_b0b02_row12_col2, #T_b0b02_row12_col3, #T_b0b02_row12_col4, #T_b0b02_row12_col5, #T_b0b02_row12_col6, #T_b0b02_row12_col7, #T_b0b02_row13_col0, #T_b0b02_row13_col1, #T_b0b02_row13_col2, #T_b0b02_row13_col4, #T_b0b02_row13_col5, #T_b0b02_row13_col6, #T_b0b02_row13_col7, #T_b0b02_row14_col0, #T_b0b02_row14_col1, #T_b0b02_row14_col2, #T_b0b02_row14_col3, #T_b0b02_row14_col4, #T_b0b02_row14_col5, #T_b0b02_row14_col6, #T_b0b02_row14_col7 {\n",
       "  text-align: left;\n",
       "}\n",
       "#T_b0b02_row0_col1, #T_b0b02_row0_col2, #T_b0b02_row0_col5, #T_b0b02_row0_col6, #T_b0b02_row0_col7, #T_b0b02_row1_col4, #T_b0b02_row13_col3 {\n",
       "  text-align: left;\n",
       "  background-color: yellow;\n",
       "}\n",
       "#T_b0b02_row0_col8, #T_b0b02_row1_col8, #T_b0b02_row2_col8, #T_b0b02_row3_col8, #T_b0b02_row4_col8, #T_b0b02_row5_col8, #T_b0b02_row6_col8, #T_b0b02_row7_col8, #T_b0b02_row8_col8, #T_b0b02_row10_col8, #T_b0b02_row11_col8, #T_b0b02_row12_col8, #T_b0b02_row13_col8, #T_b0b02_row14_col8 {\n",
       "  text-align: left;\n",
       "  background-color: lightgrey;\n",
       "}\n",
       "#T_b0b02_row9_col8 {\n",
       "  text-align: left;\n",
       "  background-color: yellow;\n",
       "  background-color: lightgrey;\n",
       "}\n",
       "</style>\n",
       "<table id=\"T_b0b02_\">\n",
       "  <thead>\n",
       "    <tr>\n",
       "      <th class=\"blank level0\" >&nbsp;</th>\n",
       "      <th class=\"col_heading level0 col0\" >Model</th>\n",
       "      <th class=\"col_heading level0 col1\" >Accuracy</th>\n",
       "      <th class=\"col_heading level0 col2\" >AUC</th>\n",
       "      <th class=\"col_heading level0 col3\" >Recall</th>\n",
       "      <th class=\"col_heading level0 col4\" >Prec.</th>\n",
       "      <th class=\"col_heading level0 col5\" >F1</th>\n",
       "      <th class=\"col_heading level0 col6\" >Kappa</th>\n",
       "      <th class=\"col_heading level0 col7\" >MCC</th>\n",
       "      <th class=\"col_heading level0 col8\" >TT (Sec)</th>\n",
       "    </tr>\n",
       "  </thead>\n",
       "  <tbody>\n",
       "    <tr>\n",
       "      <th id=\"T_b0b02_level0_row0\" class=\"row_heading level0 row0\" >gbc</th>\n",
       "      <td id=\"T_b0b02_row0_col0\" class=\"data row0 col0\" >Gradient Boosting Classifier</td>\n",
       "      <td id=\"T_b0b02_row0_col1\" class=\"data row0 col1\" >0.8634</td>\n",
       "      <td id=\"T_b0b02_row0_col2\" class=\"data row0 col2\" >0.8670</td>\n",
       "      <td id=\"T_b0b02_row0_col3\" class=\"data row0 col3\" >0.4675</td>\n",
       "      <td id=\"T_b0b02_row0_col4\" class=\"data row0 col4\" >0.7715</td>\n",
       "      <td id=\"T_b0b02_row0_col5\" class=\"data row0 col5\" >0.5812</td>\n",
       "      <td id=\"T_b0b02_row0_col6\" class=\"data row0 col6\" >0.5057</td>\n",
       "      <td id=\"T_b0b02_row0_col7\" class=\"data row0 col7\" >0.5288</td>\n",
       "      <td id=\"T_b0b02_row0_col8\" class=\"data row0 col8\" >3.9730</td>\n",
       "    </tr>\n",
       "    <tr>\n",
       "      <th id=\"T_b0b02_level0_row1\" class=\"row_heading level0 row1\" >rf</th>\n",
       "      <td id=\"T_b0b02_row1_col0\" class=\"data row1 col0\" >Random Forest Classifier</td>\n",
       "      <td id=\"T_b0b02_row1_col1\" class=\"data row1 col1\" >0.8625</td>\n",
       "      <td id=\"T_b0b02_row1_col2\" class=\"data row1 col2\" >0.8520</td>\n",
       "      <td id=\"T_b0b02_row1_col3\" class=\"data row1 col3\" >0.4613</td>\n",
       "      <td id=\"T_b0b02_row1_col4\" class=\"data row1 col4\" >0.7720</td>\n",
       "      <td id=\"T_b0b02_row1_col5\" class=\"data row1 col5\" >0.5764</td>\n",
       "      <td id=\"T_b0b02_row1_col6\" class=\"data row1 col6\" >0.5008</td>\n",
       "      <td id=\"T_b0b02_row1_col7\" class=\"data row1 col7\" >0.5250</td>\n",
       "      <td id=\"T_b0b02_row1_col8\" class=\"data row1 col8\" >4.0380</td>\n",
       "    </tr>\n",
       "    <tr>\n",
       "      <th id=\"T_b0b02_level0_row2\" class=\"row_heading level0 row2\" >lightgbm</th>\n",
       "      <td id=\"T_b0b02_row2_col0\" class=\"data row2 col0\" >Light Gradient Boosting Machine</td>\n",
       "      <td id=\"T_b0b02_row2_col1\" class=\"data row2 col1\" >0.8572</td>\n",
       "      <td id=\"T_b0b02_row2_col2\" class=\"data row2 col2\" >0.8587</td>\n",
       "      <td id=\"T_b0b02_row2_col3\" class=\"data row2 col3\" >0.4810</td>\n",
       "      <td id=\"T_b0b02_row2_col4\" class=\"data row2 col4\" >0.7258</td>\n",
       "      <td id=\"T_b0b02_row2_col5\" class=\"data row2 col5\" >0.5776</td>\n",
       "      <td id=\"T_b0b02_row2_col6\" class=\"data row2 col6\" >0.4962</td>\n",
       "      <td id=\"T_b0b02_row2_col7\" class=\"data row2 col7\" >0.5118</td>\n",
       "      <td id=\"T_b0b02_row2_col8\" class=\"data row2 col8\" >4.4050</td>\n",
       "    </tr>\n",
       "    <tr>\n",
       "      <th id=\"T_b0b02_level0_row3\" class=\"row_heading level0 row3\" >ada</th>\n",
       "      <td id=\"T_b0b02_row3_col0\" class=\"data row3 col0\" >Ada Boost Classifier</td>\n",
       "      <td id=\"T_b0b02_row3_col1\" class=\"data row3 col1\" >0.8551</td>\n",
       "      <td id=\"T_b0b02_row3_col2\" class=\"data row3 col2\" >0.8451</td>\n",
       "      <td id=\"T_b0b02_row3_col3\" class=\"data row3 col3\" >0.4656</td>\n",
       "      <td id=\"T_b0b02_row3_col4\" class=\"data row3 col4\" >0.7248</td>\n",
       "      <td id=\"T_b0b02_row3_col5\" class=\"data row3 col5\" >0.5662</td>\n",
       "      <td id=\"T_b0b02_row3_col6\" class=\"data row3 col6\" >0.4843</td>\n",
       "      <td id=\"T_b0b02_row3_col7\" class=\"data row3 col7\" >0.5018</td>\n",
       "      <td id=\"T_b0b02_row3_col8\" class=\"data row3 col8\" >3.8220</td>\n",
       "    </tr>\n",
       "    <tr>\n",
       "      <th id=\"T_b0b02_level0_row4\" class=\"row_heading level0 row4\" >et</th>\n",
       "      <td id=\"T_b0b02_row4_col0\" class=\"data row4 col0\" >Extra Trees Classifier</td>\n",
       "      <td id=\"T_b0b02_row4_col1\" class=\"data row4 col1\" >0.8542</td>\n",
       "      <td id=\"T_b0b02_row4_col2\" class=\"data row4 col2\" >0.8438</td>\n",
       "      <td id=\"T_b0b02_row4_col3\" class=\"data row4 col3\" >0.4325</td>\n",
       "      <td id=\"T_b0b02_row4_col4\" class=\"data row4 col4\" >0.7465</td>\n",
       "      <td id=\"T_b0b02_row4_col5\" class=\"data row4 col5\" >0.5465</td>\n",
       "      <td id=\"T_b0b02_row4_col6\" class=\"data row4 col6\" >0.4671</td>\n",
       "      <td id=\"T_b0b02_row4_col7\" class=\"data row4 col7\" >0.4924</td>\n",
       "      <td id=\"T_b0b02_row4_col8\" class=\"data row4 col8\" >3.8620</td>\n",
       "    </tr>\n",
       "    <tr>\n",
       "      <th id=\"T_b0b02_level0_row5\" class=\"row_heading level0 row5\" >xgboost</th>\n",
       "      <td id=\"T_b0b02_row5_col0\" class=\"data row5 col0\" >Extreme Gradient Boosting</td>\n",
       "      <td id=\"T_b0b02_row5_col1\" class=\"data row5 col1\" >0.8535</td>\n",
       "      <td id=\"T_b0b02_row5_col2\" class=\"data row5 col2\" >0.8456</td>\n",
       "      <td id=\"T_b0b02_row5_col3\" class=\"data row5 col3\" >0.4865</td>\n",
       "      <td id=\"T_b0b02_row5_col4\" class=\"data row5 col4\" >0.7031</td>\n",
       "      <td id=\"T_b0b02_row5_col5\" class=\"data row5 col5\" >0.5745</td>\n",
       "      <td id=\"T_b0b02_row5_col6\" class=\"data row5 col6\" >0.4897</td>\n",
       "      <td id=\"T_b0b02_row5_col7\" class=\"data row5 col7\" >0.5021</td>\n",
       "      <td id=\"T_b0b02_row5_col8\" class=\"data row5 col8\" >3.5060</td>\n",
       "    </tr>\n",
       "    <tr>\n",
       "      <th id=\"T_b0b02_level0_row6\" class=\"row_heading level0 row6\" >nb</th>\n",
       "      <td id=\"T_b0b02_row6_col0\" class=\"data row6 col0\" >Naive Bayes</td>\n",
       "      <td id=\"T_b0b02_row6_col1\" class=\"data row6 col1\" >0.8172</td>\n",
       "      <td id=\"T_b0b02_row6_col2\" class=\"data row6 col2\" >0.7793</td>\n",
       "      <td id=\"T_b0b02_row6_col3\" class=\"data row6 col3\" >0.3613</td>\n",
       "      <td id=\"T_b0b02_row6_col4\" class=\"data row6 col4\" >0.5856</td>\n",
       "      <td id=\"T_b0b02_row6_col5\" class=\"data row6 col5\" >0.4452</td>\n",
       "      <td id=\"T_b0b02_row6_col6\" class=\"data row6 col6\" >0.3434</td>\n",
       "      <td id=\"T_b0b02_row6_col7\" class=\"data row6 col7\" >0.3586</td>\n",
       "      <td id=\"T_b0b02_row6_col8\" class=\"data row6 col8\" >3.3180</td>\n",
       "    </tr>\n",
       "    <tr>\n",
       "      <th id=\"T_b0b02_level0_row7\" class=\"row_heading level0 row7\" >knn</th>\n",
       "      <td id=\"T_b0b02_row7_col0\" class=\"data row7 col0\" >K Neighbors Classifier</td>\n",
       "      <td id=\"T_b0b02_row7_col1\" class=\"data row7 col1\" >0.8140</td>\n",
       "      <td id=\"T_b0b02_row7_col2\" class=\"data row7 col2\" >0.7399</td>\n",
       "      <td id=\"T_b0b02_row7_col3\" class=\"data row7 col3\" >0.3049</td>\n",
       "      <td id=\"T_b0b02_row7_col4\" class=\"data row7 col4\" >0.5827</td>\n",
       "      <td id=\"T_b0b02_row7_col5\" class=\"data row7 col5\" >0.3992</td>\n",
       "      <td id=\"T_b0b02_row7_col6\" class=\"data row7 col6\" >0.3022</td>\n",
       "      <td id=\"T_b0b02_row7_col7\" class=\"data row7 col7\" >0.3247</td>\n",
       "      <td id=\"T_b0b02_row7_col8\" class=\"data row7 col8\" >3.7580</td>\n",
       "    </tr>\n",
       "    <tr>\n",
       "      <th id=\"T_b0b02_level0_row8\" class=\"row_heading level0 row8\" >lr</th>\n",
       "      <td id=\"T_b0b02_row8_col0\" class=\"data row8 col0\" >Logistic Regression</td>\n",
       "      <td id=\"T_b0b02_row8_col1\" class=\"data row8 col1\" >0.8100</td>\n",
       "      <td id=\"T_b0b02_row8_col2\" class=\"data row8 col2\" >0.7585</td>\n",
       "      <td id=\"T_b0b02_row8_col3\" class=\"data row8 col3\" >0.1883</td>\n",
       "      <td id=\"T_b0b02_row8_col4\" class=\"data row8 col4\" >0.6066</td>\n",
       "      <td id=\"T_b0b02_row8_col5\" class=\"data row8 col5\" >0.2866</td>\n",
       "      <td id=\"T_b0b02_row8_col6\" class=\"data row8 col6\" >0.2112</td>\n",
       "      <td id=\"T_b0b02_row8_col7\" class=\"data row8 col7\" >0.2598</td>\n",
       "      <td id=\"T_b0b02_row8_col8\" class=\"data row8 col8\" >4.9930</td>\n",
       "    </tr>\n",
       "    <tr>\n",
       "      <th id=\"T_b0b02_level0_row9\" class=\"row_heading level0 row9\" >ridge</th>\n",
       "      <td id=\"T_b0b02_row9_col0\" class=\"data row9 col0\" >Ridge Classifier</td>\n",
       "      <td id=\"T_b0b02_row9_col1\" class=\"data row9 col1\" >0.8049</td>\n",
       "      <td id=\"T_b0b02_row9_col2\" class=\"data row9 col2\" >0.0000</td>\n",
       "      <td id=\"T_b0b02_row9_col3\" class=\"data row9 col3\" >0.1086</td>\n",
       "      <td id=\"T_b0b02_row9_col4\" class=\"data row9 col4\" >0.6246</td>\n",
       "      <td id=\"T_b0b02_row9_col5\" class=\"data row9 col5\" >0.1838</td>\n",
       "      <td id=\"T_b0b02_row9_col6\" class=\"data row9 col6\" >0.1317</td>\n",
       "      <td id=\"T_b0b02_row9_col7\" class=\"data row9 col7\" >0.1986</td>\n",
       "      <td id=\"T_b0b02_row9_col8\" class=\"data row9 col8\" >3.0690</td>\n",
       "    </tr>\n",
       "    <tr>\n",
       "      <th id=\"T_b0b02_level0_row10\" class=\"row_heading level0 row10\" >lda</th>\n",
       "      <td id=\"T_b0b02_row10_col0\" class=\"data row10 col0\" >Linear Discriminant Analysis</td>\n",
       "      <td id=\"T_b0b02_row10_col1\" class=\"data row10 col1\" >0.8036</td>\n",
       "      <td id=\"T_b0b02_row10_col2\" class=\"data row10 col2\" >0.7613</td>\n",
       "      <td id=\"T_b0b02_row10_col3\" class=\"data row10 col3\" >0.2110</td>\n",
       "      <td id=\"T_b0b02_row10_col4\" class=\"data row10 col4\" >0.5461</td>\n",
       "      <td id=\"T_b0b02_row10_col5\" class=\"data row10 col5\" >0.3039</td>\n",
       "      <td id=\"T_b0b02_row10_col6\" class=\"data row10 col6\" >0.2152</td>\n",
       "      <td id=\"T_b0b02_row10_col7\" class=\"data row10 col7\" >0.2484</td>\n",
       "      <td id=\"T_b0b02_row10_col8\" class=\"data row10 col8\" >3.4340</td>\n",
       "    </tr>\n",
       "    <tr>\n",
       "      <th id=\"T_b0b02_level0_row11\" class=\"row_heading level0 row11\" >svm</th>\n",
       "      <td id=\"T_b0b02_row11_col0\" class=\"data row11 col0\" >SVM - Linear Kernel</td>\n",
       "      <td id=\"T_b0b02_row11_col1\" class=\"data row11 col1\" >0.7962</td>\n",
       "      <td id=\"T_b0b02_row11_col2\" class=\"data row11 col2\" >0.0000</td>\n",
       "      <td id=\"T_b0b02_row11_col3\" class=\"data row11 col3\" >0.0000</td>\n",
       "      <td id=\"T_b0b02_row11_col4\" class=\"data row11 col4\" >0.0000</td>\n",
       "      <td id=\"T_b0b02_row11_col5\" class=\"data row11 col5\" >0.0000</td>\n",
       "      <td id=\"T_b0b02_row11_col6\" class=\"data row11 col6\" >0.0000</td>\n",
       "      <td id=\"T_b0b02_row11_col7\" class=\"data row11 col7\" >0.0000</td>\n",
       "      <td id=\"T_b0b02_row11_col8\" class=\"data row11 col8\" >3.5470</td>\n",
       "    </tr>\n",
       "    <tr>\n",
       "      <th id=\"T_b0b02_level0_row12\" class=\"row_heading level0 row12\" >dummy</th>\n",
       "      <td id=\"T_b0b02_row12_col0\" class=\"data row12 col0\" >Dummy Classifier</td>\n",
       "      <td id=\"T_b0b02_row12_col1\" class=\"data row12 col1\" >0.7962</td>\n",
       "      <td id=\"T_b0b02_row12_col2\" class=\"data row12 col2\" >0.5000</td>\n",
       "      <td id=\"T_b0b02_row12_col3\" class=\"data row12 col3\" >0.0000</td>\n",
       "      <td id=\"T_b0b02_row12_col4\" class=\"data row12 col4\" >0.0000</td>\n",
       "      <td id=\"T_b0b02_row12_col5\" class=\"data row12 col5\" >0.0000</td>\n",
       "      <td id=\"T_b0b02_row12_col6\" class=\"data row12 col6\" >0.0000</td>\n",
       "      <td id=\"T_b0b02_row12_col7\" class=\"data row12 col7\" >0.0000</td>\n",
       "      <td id=\"T_b0b02_row12_col8\" class=\"data row12 col8\" >3.4520</td>\n",
       "    </tr>\n",
       "    <tr>\n",
       "      <th id=\"T_b0b02_level0_row13\" class=\"row_heading level0 row13\" >dt</th>\n",
       "      <td id=\"T_b0b02_row13_col0\" class=\"data row13 col0\" >Decision Tree Classifier</td>\n",
       "      <td id=\"T_b0b02_row13_col1\" class=\"data row13 col1\" >0.7904</td>\n",
       "      <td id=\"T_b0b02_row13_col2\" class=\"data row13 col2\" >0.6860</td>\n",
       "      <td id=\"T_b0b02_row13_col3\" class=\"data row13 col3\" >0.5098</td>\n",
       "      <td id=\"T_b0b02_row13_col4\" class=\"data row13 col4\" >0.4862</td>\n",
       "      <td id=\"T_b0b02_row13_col5\" class=\"data row13 col5\" >0.4973</td>\n",
       "      <td id=\"T_b0b02_row13_col6\" class=\"data row13 col6\" >0.3651</td>\n",
       "      <td id=\"T_b0b02_row13_col7\" class=\"data row13 col7\" >0.3655</td>\n",
       "      <td id=\"T_b0b02_row13_col8\" class=\"data row13 col8\" >4.0320</td>\n",
       "    </tr>\n",
       "    <tr>\n",
       "      <th id=\"T_b0b02_level0_row14\" class=\"row_heading level0 row14\" >qda</th>\n",
       "      <td id=\"T_b0b02_row14_col0\" class=\"data row14 col0\" >Quadratic Discriminant Analysis</td>\n",
       "      <td id=\"T_b0b02_row14_col1\" class=\"data row14 col1\" >0.7209</td>\n",
       "      <td id=\"T_b0b02_row14_col2\" class=\"data row14 col2\" >0.7482</td>\n",
       "      <td id=\"T_b0b02_row14_col3\" class=\"data row14 col3\" >0.5006</td>\n",
       "      <td id=\"T_b0b02_row14_col4\" class=\"data row14 col4\" >0.4804</td>\n",
       "      <td id=\"T_b0b02_row14_col5\" class=\"data row14 col5\" >0.4220</td>\n",
       "      <td id=\"T_b0b02_row14_col6\" class=\"data row14 col6\" >0.2676</td>\n",
       "      <td id=\"T_b0b02_row14_col7\" class=\"data row14 col7\" >0.2942</td>\n",
       "      <td id=\"T_b0b02_row14_col8\" class=\"data row14 col8\" >3.4920</td>\n",
       "    </tr>\n",
       "  </tbody>\n",
       "</table>\n"
      ],
      "text/plain": [
       "<pandas.io.formats.style.Styler at 0x27b1a1aa0a0>"
      ]
     },
     "metadata": {},
     "output_type": "display_data"
    },
    {
     "data": {
      "application/vnd.jupyter.widget-view+json": {
       "model_id": "",
       "version_major": 2,
       "version_minor": 0
      },
      "text/plain": [
       "Processing:   0%|          | 0/65 [00:00<?, ?it/s]"
      ]
     },
     "metadata": {},
     "output_type": "display_data"
    },
    {
     "data": {
      "text/plain": [
       "GradientBoostingClassifier(ccp_alpha=0.0, criterion='friedman_mse', init=None,\n",
       "                           learning_rate=0.1, loss='deviance', max_depth=3,\n",
       "                           max_features=None, max_leaf_nodes=None,\n",
       "                           min_impurity_decrease=0.0, min_samples_leaf=1,\n",
       "                           min_samples_split=2, min_weight_fraction_leaf=0.0,\n",
       "                           n_estimators=100, n_iter_no_change=None,\n",
       "                           random_state=7768, subsample=1.0, tol=0.0001,\n",
       "                           validation_fraction=0.1, verbose=0,\n",
       "                           warm_start=False)"
      ]
     },
     "execution_count": 17,
     "metadata": {},
     "output_type": "execute_result"
    }
   ],
   "source": [
    "# Comparer les modèles de classification disponibles et les trier par précision\n",
    "compare_models(sort=\"Accuracy\")"
   ]
  },
  {
   "cell_type": "code",
   "execution_count": 18,
   "id": "b377a01a",
   "metadata": {},
   "outputs": [
    {
     "data": {
      "text/html": [],
      "text/plain": [
       "<IPython.core.display.HTML object>"
      ]
     },
     "metadata": {},
     "output_type": "display_data"
    },
    {
     "data": {
      "text/html": [
       "<style type=\"text/css\">\n",
       "#T_9c3a3_row10_col0, #T_9c3a3_row10_col1, #T_9c3a3_row10_col2, #T_9c3a3_row10_col3, #T_9c3a3_row10_col4, #T_9c3a3_row10_col5, #T_9c3a3_row10_col6 {\n",
       "  background: yellow;\n",
       "}\n",
       "</style>\n",
       "<table id=\"T_9c3a3_\">\n",
       "  <thead>\n",
       "    <tr>\n",
       "      <th class=\"blank level0\" >&nbsp;</th>\n",
       "      <th class=\"col_heading level0 col0\" >Accuracy</th>\n",
       "      <th class=\"col_heading level0 col1\" >AUC</th>\n",
       "      <th class=\"col_heading level0 col2\" >Recall</th>\n",
       "      <th class=\"col_heading level0 col3\" >Prec.</th>\n",
       "      <th class=\"col_heading level0 col4\" >F1</th>\n",
       "      <th class=\"col_heading level0 col5\" >Kappa</th>\n",
       "      <th class=\"col_heading level0 col6\" >MCC</th>\n",
       "    </tr>\n",
       "    <tr>\n",
       "      <th class=\"index_name level0\" >Fold</th>\n",
       "      <th class=\"blank col0\" >&nbsp;</th>\n",
       "      <th class=\"blank col1\" >&nbsp;</th>\n",
       "      <th class=\"blank col2\" >&nbsp;</th>\n",
       "      <th class=\"blank col3\" >&nbsp;</th>\n",
       "      <th class=\"blank col4\" >&nbsp;</th>\n",
       "      <th class=\"blank col5\" >&nbsp;</th>\n",
       "      <th class=\"blank col6\" >&nbsp;</th>\n",
       "    </tr>\n",
       "  </thead>\n",
       "  <tbody>\n",
       "    <tr>\n",
       "      <th id=\"T_9c3a3_level0_row0\" class=\"row_heading level0 row0\" >0</th>\n",
       "      <td id=\"T_9c3a3_row0_col0\" class=\"data row0 col0\" >0.8538</td>\n",
       "      <td id=\"T_9c3a3_row0_col1\" class=\"data row0 col1\" >0.8272</td>\n",
       "      <td id=\"T_9c3a3_row0_col2\" class=\"data row0 col2\" >0.4724</td>\n",
       "      <td id=\"T_9c3a3_row0_col3\" class=\"data row0 col3\" >0.7130</td>\n",
       "      <td id=\"T_9c3a3_row0_col4\" class=\"data row0 col4\" >0.5683</td>\n",
       "      <td id=\"T_9c3a3_row0_col5\" class=\"data row0 col5\" >0.4846</td>\n",
       "      <td id=\"T_9c3a3_row0_col6\" class=\"data row0 col6\" >0.4994</td>\n",
       "    </tr>\n",
       "    <tr>\n",
       "      <th id=\"T_9c3a3_level0_row1\" class=\"row_heading level0 row1\" >1</th>\n",
       "      <td id=\"T_9c3a3_row1_col0\" class=\"data row1 col0\" >0.8625</td>\n",
       "      <td id=\"T_9c3a3_row1_col1\" class=\"data row1 col1\" >0.8796</td>\n",
       "      <td id=\"T_9c3a3_row1_col2\" class=\"data row1 col2\" >0.4908</td>\n",
       "      <td id=\"T_9c3a3_row1_col3\" class=\"data row1 col3\" >0.7477</td>\n",
       "      <td id=\"T_9c3a3_row1_col4\" class=\"data row1 col4\" >0.5926</td>\n",
       "      <td id=\"T_9c3a3_row1_col5\" class=\"data row1 col5\" >0.5141</td>\n",
       "      <td id=\"T_9c3a3_row1_col6\" class=\"data row1 col6\" >0.5306</td>\n",
       "    </tr>\n",
       "    <tr>\n",
       "      <th id=\"T_9c3a3_level0_row2\" class=\"row_heading level0 row2\" >2</th>\n",
       "      <td id=\"T_9c3a3_row2_col0\" class=\"data row2 col0\" >0.8475</td>\n",
       "      <td id=\"T_9c3a3_row2_col1\" class=\"data row2 col1\" >0.8353</td>\n",
       "      <td id=\"T_9c3a3_row2_col2\" class=\"data row2 col2\" >0.4479</td>\n",
       "      <td id=\"T_9c3a3_row2_col3\" class=\"data row2 col3\" >0.6952</td>\n",
       "      <td id=\"T_9c3a3_row2_col4\" class=\"data row2 col4\" >0.5448</td>\n",
       "      <td id=\"T_9c3a3_row2_col5\" class=\"data row2 col5\" >0.4583</td>\n",
       "      <td id=\"T_9c3a3_row2_col6\" class=\"data row2 col6\" >0.4743</td>\n",
       "    </tr>\n",
       "    <tr>\n",
       "      <th id=\"T_9c3a3_level0_row3\" class=\"row_heading level0 row3\" >3</th>\n",
       "      <td id=\"T_9c3a3_row3_col0\" class=\"data row3 col0\" >0.8600</td>\n",
       "      <td id=\"T_9c3a3_row3_col1\" class=\"data row3 col1\" >0.8641</td>\n",
       "      <td id=\"T_9c3a3_row3_col2\" class=\"data row3 col2\" >0.4540</td>\n",
       "      <td id=\"T_9c3a3_row3_col3\" class=\"data row3 col3\" >0.7629</td>\n",
       "      <td id=\"T_9c3a3_row3_col4\" class=\"data row3 col4\" >0.5692</td>\n",
       "      <td id=\"T_9c3a3_row3_col5\" class=\"data row3 col5\" >0.4920</td>\n",
       "      <td id=\"T_9c3a3_row3_col6\" class=\"data row3 col6\" >0.5156</td>\n",
       "    </tr>\n",
       "    <tr>\n",
       "      <th id=\"T_9c3a3_level0_row4\" class=\"row_heading level0 row4\" >4</th>\n",
       "      <td id=\"T_9c3a3_row4_col0\" class=\"data row4 col0\" >0.8662</td>\n",
       "      <td id=\"T_9c3a3_row4_col1\" class=\"data row4 col1\" >0.8713</td>\n",
       "      <td id=\"T_9c3a3_row4_col2\" class=\"data row4 col2\" >0.5215</td>\n",
       "      <td id=\"T_9c3a3_row4_col3\" class=\"data row4 col3\" >0.7456</td>\n",
       "      <td id=\"T_9c3a3_row4_col4\" class=\"data row4 col4\" >0.6137</td>\n",
       "      <td id=\"T_9c3a3_row4_col5\" class=\"data row4 col5\" >0.5359</td>\n",
       "      <td id=\"T_9c3a3_row4_col6\" class=\"data row4 col6\" >0.5484</td>\n",
       "    </tr>\n",
       "    <tr>\n",
       "      <th id=\"T_9c3a3_level0_row5\" class=\"row_heading level0 row5\" >5</th>\n",
       "      <td id=\"T_9c3a3_row5_col0\" class=\"data row5 col0\" >0.8512</td>\n",
       "      <td id=\"T_9c3a3_row5_col1\" class=\"data row5 col1\" >0.8739</td>\n",
       "      <td id=\"T_9c3a3_row5_col2\" class=\"data row5 col2\" >0.4663</td>\n",
       "      <td id=\"T_9c3a3_row5_col3\" class=\"data row5 col3\" >0.7037</td>\n",
       "      <td id=\"T_9c3a3_row5_col4\" class=\"data row5 col4\" >0.5609</td>\n",
       "      <td id=\"T_9c3a3_row5_col5\" class=\"data row5 col5\" >0.4757</td>\n",
       "      <td id=\"T_9c3a3_row5_col6\" class=\"data row5 col6\" >0.4904</td>\n",
       "    </tr>\n",
       "    <tr>\n",
       "      <th id=\"T_9c3a3_level0_row6\" class=\"row_heading level0 row6\" >6</th>\n",
       "      <td id=\"T_9c3a3_row6_col0\" class=\"data row6 col0\" >0.8650</td>\n",
       "      <td id=\"T_9c3a3_row6_col1\" class=\"data row6 col1\" >0.8453</td>\n",
       "      <td id=\"T_9c3a3_row6_col2\" class=\"data row6 col2\" >0.5092</td>\n",
       "      <td id=\"T_9c3a3_row6_col3\" class=\"data row6 col3\" >0.7477</td>\n",
       "      <td id=\"T_9c3a3_row6_col4\" class=\"data row6 col4\" >0.6058</td>\n",
       "      <td id=\"T_9c3a3_row6_col5\" class=\"data row6 col5\" >0.5279</td>\n",
       "      <td id=\"T_9c3a3_row6_col6\" class=\"data row6 col6\" >0.5421</td>\n",
       "    </tr>\n",
       "    <tr>\n",
       "      <th id=\"T_9c3a3_level0_row7\" class=\"row_heading level0 row7\" >7</th>\n",
       "      <td id=\"T_9c3a3_row7_col0\" class=\"data row7 col0\" >0.8400</td>\n",
       "      <td id=\"T_9c3a3_row7_col1\" class=\"data row7 col1\" >0.8243</td>\n",
       "      <td id=\"T_9c3a3_row7_col2\" class=\"data row7 col2\" >0.3865</td>\n",
       "      <td id=\"T_9c3a3_row7_col3\" class=\"data row7 col3\" >0.6923</td>\n",
       "      <td id=\"T_9c3a3_row7_col4\" class=\"data row7 col4\" >0.4961</td>\n",
       "      <td id=\"T_9c3a3_row7_col5\" class=\"data row7 col5\" >0.4099</td>\n",
       "      <td id=\"T_9c3a3_row7_col6\" class=\"data row7 col6\" >0.4346</td>\n",
       "    </tr>\n",
       "    <tr>\n",
       "      <th id=\"T_9c3a3_level0_row8\" class=\"row_heading level0 row8\" >8</th>\n",
       "      <td id=\"T_9c3a3_row8_col0\" class=\"data row8 col0\" >0.8675</td>\n",
       "      <td id=\"T_9c3a3_row8_col1\" class=\"data row8 col1\" >0.8786</td>\n",
       "      <td id=\"T_9c3a3_row8_col2\" class=\"data row8 col2\" >0.5276</td>\n",
       "      <td id=\"T_9c3a3_row8_col3\" class=\"data row8 col3\" >0.7478</td>\n",
       "      <td id=\"T_9c3a3_row8_col4\" class=\"data row8 col4\" >0.6187</td>\n",
       "      <td id=\"T_9c3a3_row8_col5\" class=\"data row8 col5\" >0.5414</td>\n",
       "      <td id=\"T_9c3a3_row8_col6\" class=\"data row8 col6\" >0.5535</td>\n",
       "    </tr>\n",
       "    <tr>\n",
       "      <th id=\"T_9c3a3_level0_row9\" class=\"row_heading level0 row9\" >9</th>\n",
       "      <td id=\"T_9c3a3_row9_col0\" class=\"data row9 col0\" >0.8588</td>\n",
       "      <td id=\"T_9c3a3_row9_col1\" class=\"data row9 col1\" >0.8874</td>\n",
       "      <td id=\"T_9c3a3_row9_col2\" class=\"data row9 col2\" >0.5337</td>\n",
       "      <td id=\"T_9c3a3_row9_col3\" class=\"data row9 col3\" >0.7016</td>\n",
       "      <td id=\"T_9c3a3_row9_col4\" class=\"data row9 col4\" >0.6063</td>\n",
       "      <td id=\"T_9c3a3_row9_col5\" class=\"data row9 col5\" >0.5221</td>\n",
       "      <td id=\"T_9c3a3_row9_col6\" class=\"data row9 col6\" >0.5294</td>\n",
       "    </tr>\n",
       "    <tr>\n",
       "      <th id=\"T_9c3a3_level0_row10\" class=\"row_heading level0 row10\" >Mean</th>\n",
       "      <td id=\"T_9c3a3_row10_col0\" class=\"data row10 col0\" >0.8572</td>\n",
       "      <td id=\"T_9c3a3_row10_col1\" class=\"data row10 col1\" >0.8587</td>\n",
       "      <td id=\"T_9c3a3_row10_col2\" class=\"data row10 col2\" >0.4810</td>\n",
       "      <td id=\"T_9c3a3_row10_col3\" class=\"data row10 col3\" >0.7258</td>\n",
       "      <td id=\"T_9c3a3_row10_col4\" class=\"data row10 col4\" >0.5776</td>\n",
       "      <td id=\"T_9c3a3_row10_col5\" class=\"data row10 col5\" >0.4962</td>\n",
       "      <td id=\"T_9c3a3_row10_col6\" class=\"data row10 col6\" >0.5118</td>\n",
       "    </tr>\n",
       "    <tr>\n",
       "      <th id=\"T_9c3a3_level0_row11\" class=\"row_heading level0 row11\" >Std</th>\n",
       "      <td id=\"T_9c3a3_row11_col0\" class=\"data row11 col0\" >0.0085</td>\n",
       "      <td id=\"T_9c3a3_row11_col1\" class=\"data row11 col1\" >0.0223</td>\n",
       "      <td id=\"T_9c3a3_row11_col2\" class=\"data row11 col2\" >0.0430</td>\n",
       "      <td id=\"T_9c3a3_row11_col3\" class=\"data row11 col3\" >0.0255</td>\n",
       "      <td id=\"T_9c3a3_row11_col4\" class=\"data row11 col4\" >0.0361</td>\n",
       "      <td id=\"T_9c3a3_row11_col5\" class=\"data row11 col5\" >0.0388</td>\n",
       "      <td id=\"T_9c3a3_row11_col6\" class=\"data row11 col6\" >0.0356</td>\n",
       "    </tr>\n",
       "  </tbody>\n",
       "</table>\n"
      ],
      "text/plain": [
       "<pandas.io.formats.style.Styler at 0x27b44130ca0>"
      ]
     },
     "metadata": {},
     "output_type": "display_data"
    },
    {
     "data": {
      "application/vnd.jupyter.widget-view+json": {
       "model_id": "",
       "version_major": 2,
       "version_minor": 0
      },
      "text/plain": [
       "Processing:   0%|          | 0/4 [00:00<?, ?it/s]"
      ]
     },
     "metadata": {},
     "output_type": "display_data"
    }
   ],
   "source": [
    "# Créer le meilleur modèle selon la comparaison (lightgbm)\n",
    "best_model = create_model(\"lightgbm\")"
   ]
  },
  {
   "cell_type": "code",
   "execution_count": 19,
   "id": "b6eb0b48",
   "metadata": {},
   "outputs": [
    {
     "name": "stdout",
     "output_type": "stream",
     "text": [
      "LGBMClassifier(boosting_type='gbdt', class_weight=None, colsample_bytree=1.0,\n",
      "               importance_type='split', learning_rate=0.1, max_depth=-1,\n",
      "               min_child_samples=20, min_child_weight=0.001, min_split_gain=0.0,\n",
      "               n_estimators=100, n_jobs=-1, num_leaves=31, objective=None,\n",
      "               random_state=7768, reg_alpha=0.0, reg_lambda=0.0, silent='warn',\n",
      "               subsample=1.0, subsample_for_bin=200000, subsample_freq=0)\n"
     ]
    }
   ],
   "source": [
    "# Afficher les paramètres et les performances du meilleur modèle\n",
    "print(best_model)"
   ]
  },
  {
   "cell_type": "code",
   "execution_count": 20,
   "id": "bc87bb0e",
   "metadata": {},
   "outputs": [
    {
     "data": {
      "text/html": [],
      "text/plain": [
       "<IPython.core.display.HTML object>"
      ]
     },
     "metadata": {},
     "output_type": "display_data"
    },
    {
     "data": {
      "text/html": [
       "<style type=\"text/css\">\n",
       "#T_2cb3d_row10_col0, #T_2cb3d_row10_col1, #T_2cb3d_row10_col2, #T_2cb3d_row10_col3, #T_2cb3d_row10_col4, #T_2cb3d_row10_col5, #T_2cb3d_row10_col6 {\n",
       "  background: yellow;\n",
       "}\n",
       "</style>\n",
       "<table id=\"T_2cb3d_\">\n",
       "  <thead>\n",
       "    <tr>\n",
       "      <th class=\"blank level0\" >&nbsp;</th>\n",
       "      <th class=\"col_heading level0 col0\" >Accuracy</th>\n",
       "      <th class=\"col_heading level0 col1\" >AUC</th>\n",
       "      <th class=\"col_heading level0 col2\" >Recall</th>\n",
       "      <th class=\"col_heading level0 col3\" >Prec.</th>\n",
       "      <th class=\"col_heading level0 col4\" >F1</th>\n",
       "      <th class=\"col_heading level0 col5\" >Kappa</th>\n",
       "      <th class=\"col_heading level0 col6\" >MCC</th>\n",
       "    </tr>\n",
       "    <tr>\n",
       "      <th class=\"index_name level0\" >Fold</th>\n",
       "      <th class=\"blank col0\" >&nbsp;</th>\n",
       "      <th class=\"blank col1\" >&nbsp;</th>\n",
       "      <th class=\"blank col2\" >&nbsp;</th>\n",
       "      <th class=\"blank col3\" >&nbsp;</th>\n",
       "      <th class=\"blank col4\" >&nbsp;</th>\n",
       "      <th class=\"blank col5\" >&nbsp;</th>\n",
       "      <th class=\"blank col6\" >&nbsp;</th>\n",
       "    </tr>\n",
       "  </thead>\n",
       "  <tbody>\n",
       "    <tr>\n",
       "      <th id=\"T_2cb3d_level0_row0\" class=\"row_heading level0 row0\" >0</th>\n",
       "      <td id=\"T_2cb3d_row0_col0\" class=\"data row0 col0\" >0.8488</td>\n",
       "      <td id=\"T_2cb3d_row0_col1\" class=\"data row0 col1\" >0.8317</td>\n",
       "      <td id=\"T_2cb3d_row0_col2\" class=\"data row0 col2\" >0.4724</td>\n",
       "      <td id=\"T_2cb3d_row0_col3\" class=\"data row0 col3\" >0.6875</td>\n",
       "      <td id=\"T_2cb3d_row0_col4\" class=\"data row0 col4\" >0.5600</td>\n",
       "      <td id=\"T_2cb3d_row0_col5\" class=\"data row0 col5\" >0.4724</td>\n",
       "      <td id=\"T_2cb3d_row0_col6\" class=\"data row0 col6\" >0.4846</td>\n",
       "    </tr>\n",
       "    <tr>\n",
       "      <th id=\"T_2cb3d_level0_row1\" class=\"row_heading level0 row1\" >1</th>\n",
       "      <td id=\"T_2cb3d_row1_col0\" class=\"data row1 col0\" >0.8775</td>\n",
       "      <td id=\"T_2cb3d_row1_col1\" class=\"data row1 col1\" >0.8877</td>\n",
       "      <td id=\"T_2cb3d_row1_col2\" class=\"data row1 col2\" >0.5460</td>\n",
       "      <td id=\"T_2cb3d_row1_col3\" class=\"data row1 col3\" >0.7876</td>\n",
       "      <td id=\"T_2cb3d_row1_col4\" class=\"data row1 col4\" >0.6449</td>\n",
       "      <td id=\"T_2cb3d_row1_col5\" class=\"data row1 col5\" >0.5738</td>\n",
       "      <td id=\"T_2cb3d_row1_col6\" class=\"data row1 col6\" >0.5879</td>\n",
       "    </tr>\n",
       "    <tr>\n",
       "      <th id=\"T_2cb3d_level0_row2\" class=\"row_heading level0 row2\" >2</th>\n",
       "      <td id=\"T_2cb3d_row2_col0\" class=\"data row2 col0\" >0.8475</td>\n",
       "      <td id=\"T_2cb3d_row2_col1\" class=\"data row2 col1\" >0.8331</td>\n",
       "      <td id=\"T_2cb3d_row2_col2\" class=\"data row2 col2\" >0.4479</td>\n",
       "      <td id=\"T_2cb3d_row2_col3\" class=\"data row2 col3\" >0.6952</td>\n",
       "      <td id=\"T_2cb3d_row2_col4\" class=\"data row2 col4\" >0.5448</td>\n",
       "      <td id=\"T_2cb3d_row2_col5\" class=\"data row2 col5\" >0.4583</td>\n",
       "      <td id=\"T_2cb3d_row2_col6\" class=\"data row2 col6\" >0.4743</td>\n",
       "    </tr>\n",
       "    <tr>\n",
       "      <th id=\"T_2cb3d_level0_row3\" class=\"row_heading level0 row3\" >3</th>\n",
       "      <td id=\"T_2cb3d_row3_col0\" class=\"data row3 col0\" >0.8675</td>\n",
       "      <td id=\"T_2cb3d_row3_col1\" class=\"data row3 col1\" >0.8702</td>\n",
       "      <td id=\"T_2cb3d_row3_col2\" class=\"data row3 col2\" >0.4601</td>\n",
       "      <td id=\"T_2cb3d_row3_col3\" class=\"data row3 col3\" >0.8065</td>\n",
       "      <td id=\"T_2cb3d_row3_col4\" class=\"data row3 col4\" >0.5859</td>\n",
       "      <td id=\"T_2cb3d_row3_col5\" class=\"data row3 col5\" >0.5140</td>\n",
       "      <td id=\"T_2cb3d_row3_col6\" class=\"data row3 col6\" >0.5427</td>\n",
       "    </tr>\n",
       "    <tr>\n",
       "      <th id=\"T_2cb3d_level0_row4\" class=\"row_heading level0 row4\" >4</th>\n",
       "      <td id=\"T_2cb3d_row4_col0\" class=\"data row4 col0\" >0.8725</td>\n",
       "      <td id=\"T_2cb3d_row4_col1\" class=\"data row4 col1\" >0.8758</td>\n",
       "      <td id=\"T_2cb3d_row4_col2\" class=\"data row4 col2\" >0.5644</td>\n",
       "      <td id=\"T_2cb3d_row4_col3\" class=\"data row4 col3\" >0.7480</td>\n",
       "      <td id=\"T_2cb3d_row4_col4\" class=\"data row4 col4\" >0.6434</td>\n",
       "      <td id=\"T_2cb3d_row4_col5\" class=\"data row4 col5\" >0.5676</td>\n",
       "      <td id=\"T_2cb3d_row4_col6\" class=\"data row4 col6\" >0.5759</td>\n",
       "    </tr>\n",
       "    <tr>\n",
       "      <th id=\"T_2cb3d_level0_row5\" class=\"row_heading level0 row5\" >5</th>\n",
       "      <td id=\"T_2cb3d_row5_col0\" class=\"data row5 col0\" >0.8638</td>\n",
       "      <td id=\"T_2cb3d_row5_col1\" class=\"data row5 col1\" >0.8744</td>\n",
       "      <td id=\"T_2cb3d_row5_col2\" class=\"data row5 col2\" >0.5031</td>\n",
       "      <td id=\"T_2cb3d_row5_col3\" class=\"data row5 col3\" >0.7455</td>\n",
       "      <td id=\"T_2cb3d_row5_col4\" class=\"data row5 col4\" >0.6007</td>\n",
       "      <td id=\"T_2cb3d_row5_col5\" class=\"data row5 col5\" >0.5223</td>\n",
       "      <td id=\"T_2cb3d_row5_col6\" class=\"data row5 col6\" >0.5370</td>\n",
       "    </tr>\n",
       "    <tr>\n",
       "      <th id=\"T_2cb3d_level0_row6\" class=\"row_heading level0 row6\" >6</th>\n",
       "      <td id=\"T_2cb3d_row6_col0\" class=\"data row6 col0\" >0.8638</td>\n",
       "      <td id=\"T_2cb3d_row6_col1\" class=\"data row6 col1\" >0.8479</td>\n",
       "      <td id=\"T_2cb3d_row6_col2\" class=\"data row6 col2\" >0.5153</td>\n",
       "      <td id=\"T_2cb3d_row6_col3\" class=\"data row6 col3\" >0.7368</td>\n",
       "      <td id=\"T_2cb3d_row6_col4\" class=\"data row6 col4\" >0.6065</td>\n",
       "      <td id=\"T_2cb3d_row6_col5\" class=\"data row6 col5\" >0.5272</td>\n",
       "      <td id=\"T_2cb3d_row6_col6\" class=\"data row6 col6\" >0.5395</td>\n",
       "    </tr>\n",
       "    <tr>\n",
       "      <th id=\"T_2cb3d_level0_row7\" class=\"row_heading level0 row7\" >7</th>\n",
       "      <td id=\"T_2cb3d_row7_col0\" class=\"data row7 col0\" >0.8475</td>\n",
       "      <td id=\"T_2cb3d_row7_col1\" class=\"data row7 col1\" >0.8269</td>\n",
       "      <td id=\"T_2cb3d_row7_col2\" class=\"data row7 col2\" >0.4233</td>\n",
       "      <td id=\"T_2cb3d_row7_col3\" class=\"data row7 col3\" >0.7113</td>\n",
       "      <td id=\"T_2cb3d_row7_col4\" class=\"data row7 col4\" >0.5308</td>\n",
       "      <td id=\"T_2cb3d_row7_col5\" class=\"data row7 col5\" >0.4466</td>\n",
       "      <td id=\"T_2cb3d_row7_col6\" class=\"data row7 col6\" >0.4681</td>\n",
       "    </tr>\n",
       "    <tr>\n",
       "      <th id=\"T_2cb3d_level0_row8\" class=\"row_heading level0 row8\" >8</th>\n",
       "      <td id=\"T_2cb3d_row8_col0\" class=\"data row8 col0\" >0.8675</td>\n",
       "      <td id=\"T_2cb3d_row8_col1\" class=\"data row8 col1\" >0.8686</td>\n",
       "      <td id=\"T_2cb3d_row8_col2\" class=\"data row8 col2\" >0.5215</td>\n",
       "      <td id=\"T_2cb3d_row8_col3\" class=\"data row8 col3\" >0.7522</td>\n",
       "      <td id=\"T_2cb3d_row8_col4\" class=\"data row8 col4\" >0.6159</td>\n",
       "      <td id=\"T_2cb3d_row8_col5\" class=\"data row8 col5\" >0.5390</td>\n",
       "      <td id=\"T_2cb3d_row8_col6\" class=\"data row8 col6\" >0.5522</td>\n",
       "    </tr>\n",
       "    <tr>\n",
       "      <th id=\"T_2cb3d_level0_row9\" class=\"row_heading level0 row9\" >9</th>\n",
       "      <td id=\"T_2cb3d_row9_col0\" class=\"data row9 col0\" >0.8625</td>\n",
       "      <td id=\"T_2cb3d_row9_col1\" class=\"data row9 col1\" >0.8856</td>\n",
       "      <td id=\"T_2cb3d_row9_col2\" class=\"data row9 col2\" >0.5153</td>\n",
       "      <td id=\"T_2cb3d_row9_col3\" class=\"data row9 col3\" >0.7304</td>\n",
       "      <td id=\"T_2cb3d_row9_col4\" class=\"data row9 col4\" >0.6043</td>\n",
       "      <td id=\"T_2cb3d_row9_col5\" class=\"data row9 col5\" >0.5241</td>\n",
       "      <td id=\"T_2cb3d_row9_col6\" class=\"data row9 col6\" >0.5358</td>\n",
       "    </tr>\n",
       "    <tr>\n",
       "      <th id=\"T_2cb3d_level0_row10\" class=\"row_heading level0 row10\" >Mean</th>\n",
       "      <td id=\"T_2cb3d_row10_col0\" class=\"data row10 col0\" >0.8619</td>\n",
       "      <td id=\"T_2cb3d_row10_col1\" class=\"data row10 col1\" >0.8602</td>\n",
       "      <td id=\"T_2cb3d_row10_col2\" class=\"data row10 col2\" >0.4969</td>\n",
       "      <td id=\"T_2cb3d_row10_col3\" class=\"data row10 col3\" >0.7401</td>\n",
       "      <td id=\"T_2cb3d_row10_col4\" class=\"data row10 col4\" >0.5937</td>\n",
       "      <td id=\"T_2cb3d_row10_col5\" class=\"data row10 col5\" >0.5145</td>\n",
       "      <td id=\"T_2cb3d_row10_col6\" class=\"data row10 col6\" >0.5298</td>\n",
       "    </tr>\n",
       "    <tr>\n",
       "      <th id=\"T_2cb3d_level0_row11\" class=\"row_heading level0 row11\" >Std</th>\n",
       "      <td id=\"T_2cb3d_row11_col0\" class=\"data row11 col0\" >0.0101</td>\n",
       "      <td id=\"T_2cb3d_row11_col1\" class=\"data row11 col1\" >0.0220</td>\n",
       "      <td id=\"T_2cb3d_row11_col2\" class=\"data row11 col2\" >0.0425</td>\n",
       "      <td id=\"T_2cb3d_row11_col3\" class=\"data row11 col3\" >0.0355</td>\n",
       "      <td id=\"T_2cb3d_row11_col4\" class=\"data row11 col4\" >0.0367</td>\n",
       "      <td id=\"T_2cb3d_row11_col5\" class=\"data row11 col5\" >0.0410</td>\n",
       "      <td id=\"T_2cb3d_row11_col6\" class=\"data row11 col6\" >0.0391</td>\n",
       "    </tr>\n",
       "  </tbody>\n",
       "</table>\n"
      ],
      "text/plain": [
       "<pandas.io.formats.style.Styler at 0x27b41bf16d0>"
      ]
     },
     "metadata": {},
     "output_type": "display_data"
    },
    {
     "data": {
      "application/vnd.jupyter.widget-view+json": {
       "model_id": "",
       "version_major": 2,
       "version_minor": 0
      },
      "text/plain": [
       "Processing:   0%|          | 0/7 [00:00<?, ?it/s]"
      ]
     },
     "metadata": {},
     "output_type": "display_data"
    },
    {
     "name": "stdout",
     "output_type": "stream",
     "text": [
      "Fitting 10 folds for each of 10 candidates, totalling 100 fits\n"
     ]
    }
   ],
   "source": [
    "# Optimiser le meilleur modèle en ajustant ses hyperparamètres\n",
    "tuned_best_model = tune_model(best_model)"
   ]
  },
  {
   "cell_type": "code",
   "execution_count": null,
   "id": "b1b12e4d",
   "metadata": {},
   "outputs": [],
   "source": []
  },
  {
   "cell_type": "code",
   "execution_count": 21,
   "id": "b7667579",
   "metadata": {},
   "outputs": [
    {
     "data": {
      "text/html": [],
      "text/plain": [
       "<IPython.core.display.HTML object>"
      ]
     },
     "metadata": {},
     "output_type": "display_data"
    },
    {
     "data": {
      "image/png": "[encoded data removed]",
      "text/plain": [
       "<Figure size 800x550 with 1 Axes>"
      ]
     },
     "metadata": {},
     "output_type": "display_data"
    }
   ],
   "source": [
    "# Tracer la courbe ROC du meilleur modèle\n",
    "plot_model(best_model,plot=\"auc\")"
   ]
  },
  {
   "cell_type": "code",
   "execution_count": 22,
   "id": "804b80c1",
   "metadata": {},
   "outputs": [
    {
     "data": {
      "text/html": [],
      "text/plain": [
       "<IPython.core.display.HTML object>"
      ]
     },
     "metadata": {},
     "output_type": "display_data"
    },
    {
     "data": {
      "image/png": "[encoded data removed]",
      "text/plain": [
       "<Figure size 800x550 with 1 Axes>"
      ]
     },
     "metadata": {},
     "output_type": "display_data"
    }
   ],
   "source": [
    "plot_model(best_model,\"confusion_matrix\")"
   ]
  },
  {
   "cell_type": "code",
   "execution_count": 23,
   "id": "4e786414",
   "metadata": {},
   "outputs": [
    {
     "data": {
      "text/html": [],
      "text/plain": [
       "<IPython.core.display.HTML object>"
      ]
     },
     "metadata": {},
     "output_type": "display_data"
    },
    {
     "data": {
      "image/png": "[encoded data removed]",
      "text/plain": [
       "<Figure size 800x550 with 2 Axes>"
      ]
     },
     "metadata": {},
     "output_type": "display_data"
    }
   ],
   "source": [
    "plot_model(best_model,\"class_report\")"
   ]
  },
  {
   "cell_type": "code",
   "execution_count": 24,
   "id": "ceee2a49",
   "metadata": {},
   "outputs": [
    {
     "data": {
      "text/html": [],
      "text/plain": [
       "<IPython.core.display.HTML object>"
      ]
     },
     "metadata": {},
     "output_type": "display_data"
    },
    {
     "data": {
      "image/png": "[encoded data removed]",
      "text/plain": [
       "<Figure size 800x500 with 1 Axes>"
      ]
     },
     "metadata": {},
     "output_type": "display_data"
    }
   ],
   "source": [
    "\n",
    "plot_model(best_model, plot = 'feature')"
   ]
  },
  {
   "cell_type": "code",
   "execution_count": 25,
   "id": "e00692b1",
   "metadata": {},
   "outputs": [
    {
     "data": {
      "image/png": "[encoded data removed]",
      "text/plain": [
       "<Figure size 800x630 with 2 Axes>"
      ]
     },
     "metadata": {},
     "output_type": "display_data"
    }
   ],
   "source": [
    "interpret_model(best_model)"
   ]
  },
  {
   "cell_type": "code",
   "execution_count": 26,
   "id": "321a91bf",
   "metadata": {},
   "outputs": [
    {
     "data": {
      "text/html": [
       "<style type=\"text/css\">\n",
       "</style>\n",
       "<table id=\"T_c93f2_\">\n",
       "  <thead>\n",
       "    <tr>\n",
       "      <th class=\"blank level0\" >&nbsp;</th>\n",
       "      <th class=\"col_heading level0 col0\" >Model</th>\n",
       "      <th class=\"col_heading level0 col1\" >Accuracy</th>\n",
       "      <th class=\"col_heading level0 col2\" >AUC</th>\n",
       "      <th class=\"col_heading level0 col3\" >Recall</th>\n",
       "      <th class=\"col_heading level0 col4\" >Prec.</th>\n",
       "      <th class=\"col_heading level0 col5\" >F1</th>\n",
       "      <th class=\"col_heading level0 col6\" >Kappa</th>\n",
       "      <th class=\"col_heading level0 col7\" >MCC</th>\n",
       "    </tr>\n",
       "  </thead>\n",
       "  <tbody>\n",
       "    <tr>\n",
       "      <th id=\"T_c93f2_level0_row0\" class=\"row_heading level0 row0\" >0</th>\n",
       "      <td id=\"T_c93f2_row0_col0\" class=\"data row0 col0\" >Light Gradient Boosting Machine</td>\n",
       "      <td id=\"T_c93f2_row0_col1\" class=\"data row0 col1\" >0.8655</td>\n",
       "      <td id=\"T_c93f2_row0_col2\" class=\"data row0 col2\" >0.8552</td>\n",
       "      <td id=\"T_c93f2_row0_col3\" class=\"data row0 col3\" >0.5086</td>\n",
       "      <td id=\"T_c93f2_row0_col4\" class=\"data row0 col4\" >0.7500</td>\n",
       "      <td id=\"T_c93f2_row0_col5\" class=\"data row0 col5\" >0.6061</td>\n",
       "      <td id=\"T_c93f2_row0_col6\" class=\"data row0 col6\" >0.5286</td>\n",
       "      <td id=\"T_c93f2_row0_col7\" class=\"data row0 col7\" >0.5431</td>\n",
       "    </tr>\n",
       "  </tbody>\n",
       "</table>\n"
      ],
      "text/plain": [
       "<pandas.io.formats.style.Styler at 0x27b44170fa0>"
      ]
     },
     "metadata": {},
     "output_type": "display_data"
    }
   ],
   "source": [
    "predictions = predict_model(best_model)"
   ]
  },
  {
   "cell_type": "code",
   "execution_count": 27,
   "id": "0264c87d",
   "metadata": {},
   "outputs": [
    {
     "data": {
      "text/plain": [
       "Pipeline(memory=FastMemory(location=C:\\Users\\heses\\AppData\\Local\\Temp\\joblib),\n",
       "         steps=[('numerical_imputer',\n",
       "                 TransformerWrapper(exclude=None,\n",
       "                                    include=['CreditScore', 'Age', 'Tenure',\n",
       "                                             'Balance', 'NumOfProducts',\n",
       "                                             'HasCrCard', 'IsActiveMember',\n",
       "                                             'EstimatedSalary'],\n",
       "                                    transformer=SimpleImputer(add_indicator=False,\n",
       "                                                              copy=True,\n",
       "                                                              fill_value=None,\n",
       "                                                              missing_values=nan,\n",
       "                                                              strategy=...\n",
       "                 LGBMClassifier(boosting_type='gbdt', class_weight=None,\n",
       "                                colsample_bytree=1.0, importance_type='split',\n",
       "                                learning_rate=0.1, max_depth=-1,\n",
       "                                min_child_samples=20, min_child_weight=0.001,\n",
       "                                min_split_gain=0.0, n_estimators=100, n_jobs=-1,\n",
       "                                num_leaves=31, objective=None,\n",
       "                                random_state=7768, reg_alpha=0.0,\n",
       "                                reg_lambda=0.0, silent='warn', subsample=1.0,\n",
       "                                subsample_for_bin=200000, subsample_freq=0))],\n",
       "         verbose=False)"
      ]
     },
     "execution_count": 27,
     "metadata": {},
     "output_type": "execute_result"
    }
   ],
   "source": [
    "finalize_model(best_model)"
   ]
  },
  {
   "cell_type": "code",
   "execution_count": 28,
   "id": "430035dd",
   "metadata": {},
   "outputs": [
    {
     "name": "stdout",
     "output_type": "stream",
     "text": [
      "Transformation Pipeline and Model Successfully Saved\n"
     ]
    },
    {
     "data": {
      "text/plain": [
       "(Pipeline(memory=FastMemory(location=C:\\Users\\heses\\AppData\\Local\\Temp\\joblib),\n",
       "          steps=[('numerical_imputer',\n",
       "                  TransformerWrapper(exclude=None,\n",
       "                                     include=['CreditScore', 'Age', 'Tenure',\n",
       "                                              'Balance', 'NumOfProducts',\n",
       "                                              'HasCrCard', 'IsActiveMember',\n",
       "                                              'EstimatedSalary'],\n",
       "                                     transformer=SimpleImputer(add_indicator=False,\n",
       "                                                               copy=True,\n",
       "                                                               fill_value=None,\n",
       "                                                               missing_values=nan,\n",
       "                                                               strategy=...\n",
       "                  LGBMClassifier(boosting_type='gbdt', class_weight=None,\n",
       "                                 colsample_bytree=1.0, importance_type='split',\n",
       "                                 learning_rate=0.1, max_depth=-1,\n",
       "                                 min_child_samples=20, min_child_weight=0.001,\n",
       "                                 min_split_gain=0.0, n_estimators=100, n_jobs=-1,\n",
       "                                 num_leaves=31, objective=None,\n",
       "                                 random_state=7768, reg_alpha=0.0,\n",
       "                                 reg_lambda=0.0, silent='warn', subsample=1.0,\n",
       "                                 subsample_for_bin=200000, subsample_freq=0))],\n",
       "          verbose=False),\n",
       " 'lxgb.pkl')"
      ]
     },
     "execution_count": 28,
     "metadata": {},
     "output_type": "execute_result"
    }
   ],
   "source": [
    "save_model(best_model,\"lxgb\")"
   ]
  },
  {
   "cell_type": "code",
   "execution_count": 29,
   "id": "1ac0c5d2",
   "metadata": {},
   "outputs": [
    {
     "name": "stdout",
     "output_type": "stream",
     "text": [
      "Transformation Pipeline and Model Successfully Loaded\n"
     ]
    }
   ],
   "source": [
    "model = load_model(\"lxgb\")"
   ]
  },
  {
   "cell_type": "code",
   "execution_count": 30,
   "id": "e474fd3a",
   "metadata": {},
   "outputs": [
    {
     "name": "stdout",
     "output_type": "stream",
     "text": [
      "Running on local URL:  http://127.0.0.1:7860\n",
      "\n",
      "To create a public link, set `share=True` in `launch()`.\n"
     ]
    },
    {
     "data": {
      "text/html": [
       "<div><iframe src=\"http://127.0.0.1:7860/\" width=\"100%\" height=\"500\" allow=\"autoplay; camera; microphone; clipboard-read; clipboard-write;\" frameborder=\"0\" allowfullscreen></iframe></div>"
      ],
      "text/plain": [
       "<IPython.core.display.HTML object>"
      ]
     },
     "metadata": {},
     "output_type": "display_data"
    },
    {
     "data": {
      "text/plain": []
     },
     "execution_count": 30,
     "metadata": {},
     "output_type": "execute_result"
    }
   ],
   "source": [
    "create_app(best_model)"
   ]
  },
  {
   "cell_type": "code",
   "execution_count": 31,
   "id": "44a3e086",
   "metadata": {},
   "outputs": [
    {
     "name": "stdout",
     "output_type": "stream",
     "text": [
      "Transformation Pipeline and Model Successfully Saved\n"
     ]
    },
    {
     "data": {
      "text/plain": [
       "(Pipeline(memory=FastMemory(location=C:\\Users\\heses\\AppData\\Local\\Temp\\joblib),\n",
       "          steps=[('numerical_imputer',\n",
       "                  TransformerWrapper(exclude=None,\n",
       "                                     include=['CreditScore', 'Age', 'Tenure',\n",
       "                                              'Balance', 'NumOfProducts',\n",
       "                                              'HasCrCard', 'IsActiveMember',\n",
       "                                              'EstimatedSalary'],\n",
       "                                     transformer=SimpleImputer(add_indicator=False,\n",
       "                                                               copy=True,\n",
       "                                                               fill_value=None,\n",
       "                                                               missing_values=nan,\n",
       "                                                               strategy=...\n",
       "                  LGBMClassifier(boosting_type='gbdt', class_weight=None,\n",
       "                                 colsample_bytree=1.0, importance_type='split',\n",
       "                                 learning_rate=0.1, max_depth=-1,\n",
       "                                 min_child_samples=20, min_child_weight=0.001,\n",
       "                                 min_split_gain=0.0, n_estimators=100, n_jobs=-1,\n",
       "                                 num_leaves=31, objective=None,\n",
       "                                 random_state=7768, reg_alpha=0.0,\n",
       "                                 reg_lambda=0.0, silent='warn', subsample=1.0,\n",
       "                                 subsample_for_bin=200000, subsample_freq=0))],\n",
       "          verbose=False),\n",
       " 'pipeline.pkl')"
      ]
     },
     "execution_count": 31,
     "metadata": {},
     "output_type": "execute_result"
    }
   ],
   "source": [
    "\n",
    "final_best = finalize_model(best_model)\n",
    "\n",
    "save_model(final_best, 'pipeline')"
   ]
  },
  {
   "cell_type": "code",
   "execution_count": null,
   "id": "25ab1192",
   "metadata": {},
   "outputs": [],
   "source": []
  },
  {
   "cell_type": "code",
   "execution_count": null,
   "id": "4a83e58c",
   "metadata": {},
   "outputs": [],
   "source": []
  },
  {
   "cell_type": "code",
   "execution_count": null,
   "id": "ca67f92c",
   "metadata": {},
   "outputs": [],
   "source": []
  },
  {
   "cell_type": "code",
   "execution_count": null,
   "id": "e052a09e",
   "metadata": {},
   "outputs": [],
   "source": []
  }
 ],
 "metadata": {
  "kernelspec": {
   "display_name": "Python 3 (ipykernel)",
   "language": "python",
   "name": "python3"
  },
  "language_info": {
   "codemirror_mode": {
    "name": "ipython",
    "version": 3
   },
   "file_extension": ".py",
   "mimetype": "text/x-python",
   "name": "python",
   "nbconvert_exporter": "python",
   "pygments_lexer": "ipython3",
   "version": "3.9.13"
  }
 },
 "nbformat": 4,
 "nbformat_minor": 5
}
